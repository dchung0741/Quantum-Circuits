{
 "cells": [
  {
   "cell_type": "code",
   "execution_count": 1,
   "metadata": {},
   "outputs": [
    {
     "name": "stderr",
     "output_type": "stream",
     "text": [
      "/Users/daniel/opt/anaconda3/lib/python3.9/site-packages/pyscf/lib/misc.py:46: H5pyDeprecationWarning: Using default_file_mode other than 'r' is deprecated. Pass the mode to h5py.File() instead.\n",
      "  h5py.get_config().default_file_mode = 'a'\n"
     ]
    }
   ],
   "source": [
    "import qulacs\n",
    "from openfermion.transforms import get_fermion_operator, jordan_wigner\n",
    "from openfermion import get_sparse_operator\n",
    "from openfermion import MolecularData\n",
    "from openfermionpyscf import run_pyscf\n",
    "\n",
    "from scipy.optimize import minimize\n",
    "from pyscf import fci\n",
    "import numpy as np\n",
    "import matplotlib.pyplot as plt"
   ]
  },
  {
   "cell_type": "code",
   "execution_count": 11,
   "metadata": {},
   "outputs": [],
   "source": [
    "basis = \"sto-3g\"\n",
    "multiplicity = 1\n",
    "charge = 1\n",
    "distance  = 1.4632/2 #0.7414\n",
    "geometry = [[\"H\", [0, 0, 0]],[\"He\", [0, 0, distance]]]\n",
    "description  = \"tmp\"\n",
    "molecule = MolecularData(geometry, basis, multiplicity, charge, description)\n",
    "molecule = run_pyscf(molecule,run_scf = 1,run_fci = 1)\n",
    "#molecule = run_pyscf(molecule, run_scf=1)\n",
    "n_qubit = molecule.n_qubits\n",
    "n_electron = molecule.n_electrons\n",
    "fermionic_hamiltonian = get_fermion_operator(molecule.get_molecular_hamiltonian())\n",
    "jw_hamiltonian = jordan_wigner(fermionic_hamiltonian)"
   ]
  },
  {
   "cell_type": "code",
   "execution_count": 3,
   "metadata": {},
   "outputs": [],
   "source": [
    "terms = fermionic_hamiltonian.terms"
   ]
  },
  {
   "cell_type": "code",
   "execution_count": 12,
   "metadata": {},
   "outputs": [
    {
     "data": {
      "text/plain": [
       "(array([[-2.61128698,  0.17207596],\n",
       "        [ 0.17207596, -1.3430861 ]]),\n",
       " array([[[[ 0.94451065, -0.17207402],\n",
       "          [-0.17207402,  0.14968592]],\n",
       " \n",
       "         [[-0.17207402,  0.14968592],\n",
       "          [ 0.67670751,  0.0306259 ]]],\n",
       " \n",
       " \n",
       "        [[[-0.17207402,  0.67670751],\n",
       "          [ 0.14968592,  0.0306259 ]],\n",
       " \n",
       "         [[ 0.14968592,  0.0306259 ],\n",
       "          [ 0.0306259 ,  0.75469511]]]]))"
      ]
     },
     "execution_count": 12,
     "metadata": {},
     "output_type": "execute_result"
    }
   ],
   "source": [
    "molecule.get_integrals()"
   ]
  },
  {
   "cell_type": "code",
   "execution_count": 4,
   "metadata": {},
   "outputs": [
    {
     "data": {
      "text/plain": [
       "[0.6744887663568384,\n",
       " 0.6744887663568384,\n",
       " 0.6973937674230279,\n",
       " 0.6973937674230279,\n",
       " 0.6634680964235684]"
      ]
     },
     "execution_count": 4,
     "metadata": {},
     "output_type": "execute_result"
    }
   ],
   "source": [
    "[\n",
    "    terms[((0, 1), (0, 1), (0, 0), (0, 0))] * 2,\n",
    "    terms[((1, 1), (1, 1), (1, 0), (1, 0))] * 2,\n",
    "    terms[((2, 1), (2, 1), (2, 0), (2, 0))] * 2,\n",
    "    terms[((3, 1), (3, 1), (3, 0), (3, 0))] * 2,\n",
    "    terms[((0, 1), (2, 1), (2, 0), (0, 0))] * 2,\n",
    "]"
   ]
  },
  {
   "cell_type": "code",
   "execution_count": 6,
   "metadata": {},
   "outputs": [
    {
     "data": {
      "text/plain": [
       "() 0.7137539936876182\n",
       "((0, 1), (0, 0)) -1.2524635735648988\n",
       "((1, 1), (1, 0)) -1.2524635735648988\n",
       "((2, 1), (2, 0)) -0.47594871522096416\n",
       "((3, 1), (3, 0)) -0.47594871522096416\n",
       "((0, 1), (0, 1), (0, 0), (0, 0)) 0.3372443831784192\n",
       "((0, 1), (0, 1), (2, 0), (2, 0)) 0.09064440410574806\n",
       "((0, 1), (1, 1), (1, 0), (0, 0)) 0.3372443831784192\n",
       "((0, 1), (1, 1), (3, 0), (2, 0)) 0.09064440410574806\n",
       "((0, 1), (2, 1), (0, 0), (2, 0)) 0.09064440410574806\n",
       "((0, 1), (2, 1), (2, 0), (0, 0)) 0.3317340482117842\n",
       "((0, 1), (3, 1), (1, 0), (2, 0)) 0.09064440410574806\n",
       "((0, 1), (3, 1), (3, 0), (0, 0)) 0.3317340482117842\n",
       "((1, 1), (0, 1), (0, 0), (1, 0)) 0.3372443831784192\n",
       "((1, 1), (0, 1), (2, 0), (3, 0)) 0.09064440410574806\n",
       "((1, 1), (1, 1), (1, 0), (1, 0)) 0.3372443831784192\n",
       "((1, 1), (1, 1), (3, 0), (3, 0)) 0.09064440410574806\n",
       "((1, 1), (2, 1), (0, 0), (3, 0)) 0.09064440410574806\n",
       "((1, 1), (2, 1), (2, 0), (1, 0)) 0.3317340482117842\n",
       "((1, 1), (3, 1), (1, 0), (3, 0)) 0.09064440410574806\n",
       "((1, 1), (3, 1), (3, 0), (1, 0)) 0.3317340482117842\n",
       "((2, 1), (0, 1), (0, 0), (2, 0)) 0.3317340482117844\n",
       "((2, 1), (0, 1), (2, 0), (0, 0)) 0.09064440410574806\n",
       "((2, 1), (1, 1), (1, 0), (2, 0)) 0.3317340482117844\n",
       "((2, 1), (1, 1), (3, 0), (0, 0)) 0.09064440410574806\n",
       "((2, 1), (2, 1), (0, 0), (0, 0)) 0.09064440410574806\n",
       "((2, 1), (2, 1), (2, 0), (2, 0)) 0.34869688371151397\n",
       "((2, 1), (3, 1), (1, 0), (0, 0)) 0.09064440410574806\n",
       "((2, 1), (3, 1), (3, 0), (2, 0)) 0.34869688371151397\n",
       "((3, 1), (0, 1), (0, 0), (3, 0)) 0.3317340482117844\n",
       "((3, 1), (0, 1), (2, 0), (1, 0)) 0.09064440410574806\n",
       "((3, 1), (1, 1), (1, 0), (3, 0)) 0.3317340482117844\n",
       "((3, 1), (1, 1), (3, 0), (1, 0)) 0.09064440410574806\n",
       "((3, 1), (2, 1), (0, 0), (1, 0)) 0.09064440410574806\n",
       "((3, 1), (2, 1), (2, 0), (3, 0)) 0.34869688371151397\n",
       "((3, 1), (3, 1), (1, 0), (1, 0)) 0.09064440410574806\n",
       "((3, 1), (3, 1), (3, 0), (3, 0)) 0.34869688371151397"
      ]
     },
     "execution_count": 6,
     "metadata": {},
     "output_type": "execute_result"
    }
   ],
   "source": [
    "molecule.get_molecular_hamiltonian()"
   ]
  },
  {
   "cell_type": "code",
   "execution_count": 16,
   "metadata": {},
   "outputs": [],
   "source": [
    "basis = \"sto-3g\"\n",
    "multiplicity = 1\n",
    "charge = 0\n",
    "distance  = 0.7414\n",
    "geometry = [[\"He\", [0,0,0]]]\n",
    "description  = \"tmp\"\n",
    "molecule = MolecularData(geometry, basis, multiplicity, charge, description)\n",
    "molecule = run_pyscf(molecule,run_scf = 1,run_fci = 1)\n",
    "#molecule = run_pyscf(molecule, run_scf=1)\n",
    "n_qubit = molecule.n_qubits\n",
    "n_electron = molecule.n_electrons\n",
    "fermionic_hamiltonian = get_fermion_operator(molecule.get_molecular_hamiltonian())\n",
    "jw_hamiltonian = jordan_wigner(fermionic_hamiltonian)"
   ]
  },
  {
   "cell_type": "code",
   "execution_count": 19,
   "metadata": {},
   "outputs": [
    {
     "data": {
      "text/plain": [
       "-1.931748450137524 [0^ 0] +\n",
       "0.5278564713675361 [0^ 0^ 0 0] +\n",
       "0.5278564713675361 [0^ 1^ 1 0] +\n",
       "0.5278564713675361 [1^ 0^ 0 1] +\n",
       "-1.931748450137524 [1^ 1] +\n",
       "0.5278564713675361 [1^ 1^ 1 1]"
      ]
     },
     "execution_count": 19,
     "metadata": {},
     "output_type": "execute_result"
    }
   ],
   "source": [
    "fermionic_hamiltonian"
   ]
  },
  {
   "cell_type": "code",
   "execution_count": 3,
   "metadata": {},
   "outputs": [],
   "source": [
    "from qulacs import Observable\n",
    "from qulacs.observable import create_observable_from_openfermion_text\n",
    "qulacs_hamiltonian = create_observable_from_openfermion_text(str(jw_hamiltonian))"
   ]
  },
  {
   "cell_type": "code",
   "execution_count": 4,
   "metadata": {},
   "outputs": [
    {
     "name": "stdout",
     "output_type": "stream",
     "text": [
      "() (-0.09886396933545755+0j)\n",
      "((0, 'Z'),) (0.1711977490343294+0j)\n",
      "((1, 'Z'),) (0.1711977490343294+0j)\n",
      "((2, 'Z'),) (-0.22278593040418518+0j)\n",
      "((3, 'Z'),) (-0.2227859304041852+0j)\n",
      "((0, 'Z'), (1, 'Z')) (0.1686221915892096+0j)\n",
      "((0, 'Y'), (1, 'X'), (2, 'X'), (3, 'Y')) (0.045322202052874024+0j)\n",
      "((0, 'Y'), (1, 'Y'), (2, 'X'), (3, 'X')) (-0.045322202052874024+0j)\n",
      "((0, 'X'), (1, 'X'), (2, 'Y'), (3, 'Y')) (-0.045322202052874024+0j)\n",
      "((0, 'X'), (1, 'Y'), (2, 'Y'), (3, 'X')) (0.045322202052874024+0j)\n",
      "((0, 'Z'), (2, 'Z')) (0.12054482205301814+0j)\n",
      "((0, 'Z'), (3, 'Z')) (0.16586702410589216+0j)\n",
      "((1, 'Z'), (2, 'Z')) (0.16586702410589216+0j)\n",
      "((1, 'Z'), (3, 'Z')) (0.12054482205301814+0j)\n",
      "((2, 'Z'), (3, 'Z')) (0.17434844185575699+0j)\n"
     ]
    }
   ],
   "source": [
    "for operator, coeff in jw_hamiltonian.terms.items():\n",
    "    \n",
    "    for i in range(4):\n",
    "        existing_idx = map(lambda x: x[0], list(jw_hamiltonian.terms.keys())[-1])\n",
    "        pass\n",
    "    print(operator, coeff)"
   ]
  },
  {
   "cell_type": "code",
   "execution_count": 5,
   "metadata": {},
   "outputs": [
    {
     "name": "stdout",
     "output_type": "stream",
     "text": [
      "dict_values(['Id', 'Id', 'Id', 'Id']) (-0.09886396933545755+0j)\n",
      "dict_values(['Z', 'Id', 'Id', 'Id']) (0.1711977490343294+0j)\n",
      "dict_values(['Id', 'Z', 'Id', 'Id']) (0.1711977490343294+0j)\n",
      "dict_values(['Id', 'Id', 'Z', 'Id']) (-0.22278593040418518+0j)\n",
      "dict_values(['Id', 'Id', 'Id', 'Z']) (-0.2227859304041852+0j)\n",
      "dict_values(['Z', 'Z', 'Id', 'Id']) (0.1686221915892096+0j)\n",
      "dict_values(['Y', 'X', 'X', 'Y']) (0.045322202052874024+0j)\n",
      "dict_values(['Y', 'Y', 'X', 'X']) (-0.045322202052874024+0j)\n",
      "dict_values(['X', 'X', 'Y', 'Y']) (-0.045322202052874024+0j)\n",
      "dict_values(['X', 'Y', 'Y', 'X']) (0.045322202052874024+0j)\n",
      "dict_values(['Z', 'Id', 'Z', 'Id']) (0.12054482205301814+0j)\n",
      "dict_values(['Z', 'Id', 'Id', 'Z']) (0.16586702410589216+0j)\n",
      "dict_values(['Id', 'Z', 'Z', 'Id']) (0.16586702410589216+0j)\n",
      "dict_values(['Id', 'Z', 'Id', 'Z']) (0.12054482205301814+0j)\n",
      "dict_values(['Id', 'Id', 'Z', 'Z']) (0.17434844185575699+0j)\n"
     ]
    }
   ],
   "source": [
    "\n",
    "for operator, coeff in jw_hamiltonian.terms.items():\n",
    "    \n",
    "    operator_dict = dict(operator)\n",
    "    for i in range(4):\n",
    "        \n",
    "        if i not in operator_dict:\n",
    "            operator_dict = operator_dict|{i: 'Id'}\n",
    "        \n",
    "    operator_dict = dict(sorted(operator_dict.items()))\n",
    "\n",
    "    \n",
    "    print(operator_dict.values(), coeff)"
   ]
  },
  {
   "cell_type": "code",
   "execution_count": 6,
   "metadata": {},
   "outputs": [
    {
     "data": {
      "text/plain": [
       "False"
      ]
     },
     "execution_count": 6,
     "metadata": {},
     "output_type": "execute_result"
    }
   ],
   "source": [
    "0 in map(lambda x: x[0], list(jw_hamiltonian.terms.keys())[-1])"
   ]
  },
  {
   "cell_type": "code",
   "execution_count": 7,
   "metadata": {},
   "outputs": [
    {
     "data": {
      "text/plain": [
       "dict_keys([(), ((0, 'Z'),), ((1, 'Z'),), ((2, 'Z'),), ((3, 'Z'),), ((0, 'Z'), (1, 'Z')), ((0, 'Y'), (1, 'X'), (2, 'X'), (3, 'Y')), ((0, 'Y'), (1, 'Y'), (2, 'X'), (3, 'X')), ((0, 'X'), (1, 'X'), (2, 'Y'), (3, 'Y')), ((0, 'X'), (1, 'Y'), (2, 'Y'), (3, 'X')), ((0, 'Z'), (2, 'Z')), ((0, 'Z'), (3, 'Z')), ((1, 'Z'), (2, 'Z')), ((1, 'Z'), (3, 'Z')), ((2, 'Z'), (3, 'Z'))])"
      ]
     },
     "execution_count": 7,
     "metadata": {},
     "output_type": "execute_result"
    }
   ],
   "source": [
    "(jw_hamiltonian.terms.keys())"
   ]
  },
  {
   "cell_type": "code",
   "execution_count": 8,
   "metadata": {},
   "outputs": [
    {
     "data": {
      "text/plain": [
       "[{},\n",
       " {0: 'Z'},\n",
       " {1: 'Z'},\n",
       " {2: 'Z'},\n",
       " {3: 'Z'},\n",
       " {0: 'Z', 1: 'Z'},\n",
       " {0: 'Y', 1: 'X', 2: 'X', 3: 'Y'},\n",
       " {0: 'Y', 1: 'Y', 2: 'X', 3: 'X'},\n",
       " {0: 'X', 1: 'X', 2: 'Y', 3: 'Y'},\n",
       " {0: 'X', 1: 'Y', 2: 'Y', 3: 'X'},\n",
       " {0: 'Z', 2: 'Z'},\n",
       " {0: 'Z', 3: 'Z'},\n",
       " {1: 'Z', 2: 'Z'},\n",
       " {1: 'Z', 3: 'Z'},\n",
       " {2: 'Z', 3: 'Z'}]"
      ]
     },
     "execution_count": 8,
     "metadata": {},
     "output_type": "execute_result"
    }
   ],
   "source": [
    "list(map(lambda x: dict(x), jw_hamiltonian.terms.keys()))"
   ]
  },
  {
   "cell_type": "code",
   "execution_count": 9,
   "metadata": {},
   "outputs": [
    {
     "name": "stdout",
     "output_type": "stream",
     "text": [
      "((0, 'Y'), (1, 'X'), (2, 'X'), (3, 'Y'))\n",
      "((0, 'Y'), (1, 'X'), (2, 'X'), (3, 'Y'))\n",
      "((0, 'Y'), (1, 'X'), (2, 'X'), (3, 'Y'))\n",
      "((0, 'Y'), (1, 'X'), (2, 'X'), (3, 'Y'))\n"
     ]
    }
   ],
   "source": [
    "for i in range(4):\n",
    "    print(list(jw_hamiltonian.terms.keys())[6])"
   ]
  },
  {
   "cell_type": "code",
   "execution_count": 10,
   "metadata": {},
   "outputs": [],
   "source": [
    "from qulacs import QuantumState, QuantumCircuit\n",
    "from qulacs.gate import CZ, RY, RZ, merge, Identity\n",
    "\n",
    "depth = n_qubit"
   ]
  },
  {
   "cell_type": "code",
   "execution_count": 11,
   "metadata": {},
   "outputs": [],
   "source": [
    "def he_ansatz_circuit(n_qubit, depth, theta_list):\n",
    "    \"\"\"he_ansatz_circuit\n",
    "    Returns hardware efficient ansatz circuit.\n",
    "\n",
    "    Args:\n",
    "        n_qubit (:class:`int`):\n",
    "            the number of qubit used (equivalent to the number of fermionic modes)\n",
    "        depth (:class:`int`):\n",
    "            depth of the circuit.\n",
    "        theta_list (:class:`numpy.ndarray`):\n",
    "            rotation angles.\n",
    "    Returns:\n",
    "        :class:`qulacs.QuantumCircuit`\n",
    "    \"\"\"\n",
    "    circuit = QuantumCircuit(n_qubit)\n",
    "    for d in range(depth):\n",
    "        for i in range(n_qubit):\n",
    "            circuit.add_gate(merge(RY(i, theta_list[2 * i + 2 * n_qubit * d]), RZ(i, theta_list[2 * i + 1 + 2 * n_qubit * d])))\n",
    "        for i in range(n_qubit//2):\n",
    "            circuit.add_gate(CZ(2*i, 2*i+1))\n",
    "        for i in range(n_qubit//2-1):\n",
    "            circuit.add_gate(CZ(2*i+1, 2*i+2))\n",
    "    for i in range(n_qubit):\n",
    "        circuit.add_gate(merge(RY(i, theta_list[2*i+2*n_qubit*depth]), RZ(i, theta_list[2*i+1+2*n_qubit*depth])))\n",
    "\n",
    "    return circuit"
   ]
  },
  {
   "cell_type": "code",
   "execution_count": 12,
   "metadata": {},
   "outputs": [],
   "source": [
    "def cost(theta_list):\n",
    "    state = QuantumState(n_qubit) #Prepare |00000>\n",
    "    circuit = he_ansatz_circuit(n_qubit, depth, theta_list) #Construct quantum circuit\n",
    "    circuit.update_quantum_state(state) #Operate quantum circuit on state\n",
    "    return qulacs_hamiltonian.get_expectation_value(state) #Calculate expectation value of Hamiltonian"
   ]
  },
  {
   "cell_type": "code",
   "execution_count": 13,
   "metadata": {},
   "outputs": [],
   "source": [
    "tmp_theta = np.random.random(2*n_qubit*(depth+1))*1e-1\n",
    "tmp_circuit = he_ansatz_circuit(4, 4, tmp_theta)"
   ]
  },
  {
   "cell_type": "code",
   "execution_count": 15,
   "metadata": {},
   "outputs": [
    {
     "data": {
      "text/plain": [
       "*** Quantum Circuit Info ***\n",
       "# of qubit: 4\n",
       "# of step : 13\n",
       "# of gate : 32\n",
       "# of 1 qubit gate: 20\n",
       "# of 2 qubit gate: 12\n",
       "Clifford  : no\n",
       "Gaussian  : no\n"
      ]
     },
     "execution_count": 15,
     "metadata": {},
     "output_type": "execute_result"
    }
   ],
   "source": [
    "he_ansatz_circuit(4, 4, tmp_theta)"
   ]
  },
  {
   "cell_type": "code",
   "execution_count": 13,
   "metadata": {},
   "outputs": [],
   "source": [
    "cost_history = []\n",
    "init_theta_list = np.random.random(2*n_qubit*(depth+1))*1e-1\n",
    "cost_history.append(cost(init_theta_list))\n",
    "method = \"BFGS\"\n",
    "options = {\"disp\": True, \"maxiter\": 50, \"gtol\": 1e-6}\n",
    "opt = minimize(cost, init_theta_list,\n",
    "               method=method,\n",
    "               callback = lambda x: cost_history.append(cost(x)))"
   ]
  },
  {
   "cell_type": "code",
   "execution_count": 14,
   "metadata": {},
   "outputs": [
    {
     "data": {
      "image/png": "[encoded data removed]",
      "text/plain": [
       "<Figure size 432x288 with 1 Axes>"
      ]
     },
     "metadata": {
      "needs_background": "light"
     },
     "output_type": "display_data"
    }
   ],
   "source": [
    "plt.rcParams[\"font.size\"] = 18\n",
    "plt.plot(cost_history, color=\"red\", label=\"VQE\")\n",
    "plt.plot(range(len(cost_history)), [molecule.fci_energy]*len(cost_history), linestyle=\"dashed\", color=\"black\", label=\"Exact Solution\")\n",
    "plt.xlabel(\"Iteration\")\n",
    "plt.ylabel(\"Energy expectation value\")\n",
    "plt.legend()\n",
    "plt.show()"
   ]
  },
  {
   "cell_type": "code",
   "execution_count": 29,
   "metadata": {},
   "outputs": [],
   "source": [
    "from qulacs import StateVector, QuantumCircuit\n",
    "from qulacs.gate import RandomUnitary, CNOT , merge\n",
    "from qulacs.circuit import QuantumCircuitOptimizer\n",
    "n = 4\n",
    "gate1 = RandomUnitary([0, 1])\n",
    "gate2 = RandomUnitary([1, 2])\n",
    "# Create a merged gate\n",
    "merged_gate = merge ( gate1 , gate2 )"
   ]
  },
  {
   "cell_type": "code",
   "execution_count": 30,
   "metadata": {},
   "outputs": [
    {
     "data": {
      "text/plain": [
       "array([[-0.67489437-0.19333626j,  0.01369761+0.51069095j,\n",
       "        -0.0538364 +0.1910893j ,  0.26903777-0.36653923j],\n",
       "       [-0.15964767-0.24443965j,  0.28761193+0.17608957j,\n",
       "         0.58048328-0.61476781j,  0.02603706+0.29232772j],\n",
       "       [ 0.21988489+0.5083526j , -0.00834225+0.23620171j,\n",
       "         0.17221235+0.1066575j ,  0.73789387+0.2276997j ],\n",
       "       [ 0.31749424-0.11969226j,  0.47033546+0.59008701j,\n",
       "        -0.44913661+0.05412586j, -0.18426636+0.27721047j]])"
      ]
     },
     "execution_count": 30,
     "metadata": {},
     "output_type": "execute_result"
    }
   ],
   "source": [
    "gate1.get_matrix()"
   ]
  },
  {
   "cell_type": "code",
   "execution_count": 31,
   "metadata": {},
   "outputs": [
    {
     "data": {
      "text/plain": [
       "array([[-0.02223484-0.49755107j, -0.16501758+0.69058564j,\n",
       "         0.28269745+0.32312689j, -0.22078685-0.12138184j],\n",
       "       [-0.24129921-0.53604091j, -0.29697445-0.33340441j,\n",
       "         0.38357938-0.31680305j,  0.45470737-0.02874727j],\n",
       "       [-0.03287279-0.05705016j,  0.45635124-0.10193227j,\n",
       "        -0.02386618+0.36798023j,  0.37023959-0.70990255j],\n",
       "       [-0.60184508+0.1995759j , -0.22068798-0.17075866j,\n",
       "         0.03491663+0.65648735j,  0.09229852+0.28173822j]])"
      ]
     },
     "execution_count": 31,
     "metadata": {},
     "output_type": "execute_result"
    }
   ],
   "source": [
    "gate2.get_matrix()"
   ]
  },
  {
   "cell_type": "code",
   "execution_count": 33,
   "metadata": {},
   "outputs": [
    {
     "data": {
      "text/plain": [
       "array([[-0.46853437+0.40805545j,  0.09204938-0.06290886j,\n",
       "        -0.00580047+0.12386454j, -0.4673656 +0.34629437j,\n",
       "        -0.11516169-0.41165979j, -0.13063324+0.09765946j,\n",
       "        -0.10204144-0.00782756j,  0.05921631-0.15652639j],\n",
       "       [-0.08780584+0.32387623j, -0.40390068+0.08041524j,\n",
       "        -0.28204843-0.59424983j, -0.01616135-0.19245093j,\n",
       "        -0.05077399-0.13280048j, -0.00781015-0.04465842j,\n",
       "         0.4684825 +0.05634322j, -0.01276643+0.05221574j],\n",
       "       [ 0.16340213+0.18414455j,  0.35167415-0.19793633j,\n",
       "         0.09983978-0.10634209j, -0.40461817-0.36940769j,\n",
       "        -0.20552805+0.36447937j,  0.17003944+0.29919355j,\n",
       "         0.12125948+0.13390077j,  0.32914812-0.14350458j],\n",
       "       [-0.2267004 +0.07425234j,  0.08205068-0.52871472j,\n",
       "        -0.31818295-0.02914967j,  0.29756249-0.10538459j,\n",
       "         0.00224937-0.10673719j,  0.39693611+0.23122405j,\n",
       "        -0.17476865-0.38218825j,  0.02677936+0.23522906j],\n",
       "       [ 0.16331807+0.25443231j,  0.0489543 +0.091072j  ,\n",
       "         0.10213259+0.02790902j,  0.33019358+0.02539637j,\n",
       "         0.52954197-0.21161818j, -0.02365952+0.08622562j,\n",
       "         0.07044404-0.10713646j,  0.5633004 -0.33178082j],\n",
       "       [ 0.12399113-0.06984128j,  0.27537841+0.19914772j,\n",
       "        -0.25360159+0.05757438j, -0.04001206+0.13419298j,\n",
       "         0.12633823-0.32261813j,  0.5213794 -0.01378585j,\n",
       "         0.08450441+0.56716129j,  0.0203775 +0.23604983j],\n",
       "       [ 0.48304677-0.16806873j, -0.06799093-0.35532549j,\n",
       "        -0.02552815-0.17869538j, -0.21272928+0.09804093j,\n",
       "        -0.01956953-0.3409401j , -0.4021009 +0.04627465j,\n",
       "        -0.14148204+0.02969241j,  0.25397707+0.39273083j],\n",
       "       [ 0.05436177+0.08745273j, -0.21127598-0.2591172j ,\n",
       "        -0.11830666+0.55059449j,  0.01398962-0.20045157j,\n",
       "         0.21792332-0.03493884j, -0.22839693+0.38193768j,\n",
       "         0.36715184+0.2380711j , -0.28610862+0.00097134j]])"
      ]
     },
     "execution_count": 33,
     "metadata": {},
     "output_type": "execute_result"
    }
   ],
   "source": [
    "merged_gate.get_matrix()"
   ]
  },
  {
   "cell_type": "code",
   "execution_count": 25,
   "metadata": {},
   "outputs": [],
   "source": [
    "import numpy as np\n",
    "from qulacs import QuantumState\n",
    "from qulacs.gate import X, RY, merge\n",
    "n = 3\n",
    "state = QuantumState(n)\n",
    "state.set_zero_state()\n",
    "index = 1\n",
    "x_gate = X(index)\n",
    "angle = np.pi / 4.0\n",
    "ry_gate = RY(index, angle)\n",
    "# Create the new gate by merging gates\n",
    "# First argument applies first\n",
    "x_and_ry_gate = merge(x_gate, ry_gate)"
   ]
  },
  {
   "cell_type": "code",
   "execution_count": 26,
   "metadata": {},
   "outputs": [
    {
     "data": {
      "text/plain": [
       " *** gate info *** \n",
       " * gate name : DenseMatrix\n",
       " * target    : \n",
       " 1 : commute       \n",
       " * control   : \n",
       " * Pauli     : no\n",
       " * Clifford  : no\n",
       " * Gaussian  : no\n",
       " * Parametric: no\n",
       " * Diagonal  : no\n",
       " * Matrix\n",
       " (0.382683,0)   (0.92388,0)\n",
       "  (0.92388,0) (-0.382683,0)"
      ]
     },
     "execution_count": 26,
     "metadata": {},
     "output_type": "execute_result"
    }
   ],
   "source": [
    "x_and_ry_gate"
   ]
  },
  {
   "cell_type": "code",
   "execution_count": 27,
   "metadata": {},
   "outputs": [
    {
     "data": {
      "text/plain": [
       " *** gate info *** \n",
       " * gate name : Y-rotation\n",
       " * target    : \n",
       " 1 : commute   Y   \n",
       " * control   : \n",
       " * Pauli     : no\n",
       " * Clifford  : no\n",
       " * Gaussian  : no\n",
       " * Parametric: no\n",
       " * Diagonal  : no"
      ]
     },
     "execution_count": 27,
     "metadata": {},
     "output_type": "execute_result"
    }
   ],
   "source": [
    "ry_gate"
   ]
  },
  {
   "cell_type": "code",
   "execution_count": 110,
   "metadata": {},
   "outputs": [
    {
     "data": {
      "text/plain": [
       "0.11716126317770537"
      ]
     },
     "execution_count": 110,
     "metadata": {},
     "output_type": "execute_result"
    }
   ],
   "source": [
    "c1, c2 = random(2)\n",
    "c1"
   ]
  },
  {
   "cell_type": "code",
   "execution_count": 3,
   "metadata": {},
   "outputs": [],
   "source": [
    "from scipy.optimize import minimize\n",
    "from numpy import array, exp, linspace, pi, sqrt, inf\n",
    "\n",
    "def sto3g_loss(param):\n",
    "    Zc = 1.24\n",
    "    c1, c2, c3, a1, a2, a3 = param \n",
    "    \n",
    "    r = linspace(0, 10, 5000)\n",
    "    l = c1 * exp(- a1 * r**2) + c2 * exp(- a2 * r**2) + c3 * exp(- a3 * r**2) - sqrt(Zc**3/pi) * exp(- Zc * r)\n",
    "    l = l * r**2\n",
    "    l = l**2\n",
    "    l = l.sum()\n",
    "    return l \n",
    "\n",
    "sto3g_coeff = minimize(fun = sto3g_loss, x0 = (0.1, 0.2, 0.3, 0.4, 0.5, 0.6)).x\n",
    "\n",
    "def sto3g_wavefunc(params, r):\n",
    "    c1, c2, c3, a1, a2, a3 = params\n",
    "    return c1* exp(- a1 * r**2) + c2 * exp(- a2 * r**2) + c3 * exp(- a3 * r**2)"
   ]
  },
  {
   "cell_type": "code",
   "execution_count": 4,
   "metadata": {},
   "outputs": [],
   "source": [
    "import scipy.integrate as integrate\n",
    "\n",
    "\n",
    "def sto3g_loss_int(param):\n",
    "    Zc = 1.24\n",
    "    c1, c2, c3, a1, a2, a3 = param \n",
    "    \n",
    "    integrand = lambda r: r**2 * (c1 * exp(- a1 * r**2) + c2 * exp(- a2 * r**2) + c3 * exp(- a3 * r**2) - sqrt(Zc**3/pi) * exp(- Zc * r))**2\n",
    "    \n",
    "    return integrate.quad(integrand, 0, inf)[0]\n",
    "\n",
    "\n",
    "sto3g_coeff = minimize(fun = sto3g_loss_int, x0 = (0.1, 0.2, 0.3, 0.4, 0.5, 0.6)).x\n"
   ]
  },
  {
   "cell_type": "code",
   "execution_count": 98,
   "metadata": {},
   "outputs": [
    {
     "data": {
      "text/plain": [
       "{0.1688285734197858: 0.44451094166741356,\n",
       " 0.6238845357911147: 0.535305288708454,\n",
       " 3.425316432636999: 0.15430396237571295}"
      ]
     },
     "execution_count": 98,
     "metadata": {},
     "output_type": "execute_result"
    }
   ],
   "source": [
    "{sto3g_coeff[i + 3]: (ccc := sto3g_coeff)[i] * (2 * ccc[i + 3]/pi)**-0.75 for i in range(3)}"
   ]
  },
  {
   "cell_type": "code",
   "execution_count": 12,
   "metadata": {},
   "outputs": [
    {
     "data": {
      "text/plain": [
       "array([0.53521099, 0.44460206, 0.15428362, 0.62398276, 0.16886159,\n",
       "       3.42531141])"
      ]
     },
     "execution_count": 12,
     "metadata": {},
     "output_type": "execute_result"
    }
   ],
   "source": [
    "from HartreeFock import HartreeFock as hf\n",
    "\n",
    "xxx = hf.get_sto3g_parameter(1.24)\n",
    "xxx"
   ]
  },
  {
   "cell_type": "code",
   "execution_count": 88,
   "metadata": {},
   "outputs": [
    {
     "data": {
      "text/plain": [
       "(1.0, 9.907346967672113e-09)"
      ]
     },
     "execution_count": 88,
     "metadata": {},
     "output_type": "execute_result"
    }
   ],
   "source": [
    "integrate.quad(lambda r: 4*pi * r**2 * (2 * (a1 := 3)/pi)**1.5 * exp(- 2 * a1 * r**2), 0, inf)"
   ]
  },
  {
   "cell_type": "code",
   "execution_count": 99,
   "metadata": {},
   "outputs": [
    {
     "data": {
      "image/png": "[encoded data removed]",
      "text/plain": [
       "<Figure size 432x288 with 1 Axes>"
      ]
     },
     "metadata": {
      "needs_background": "light"
     },
     "output_type": "display_data"
    }
   ],
   "source": [
    "import matplotlib.pyplot as plt\n",
    "\n",
    "X = linspace(0, 10, 5000)\n",
    "# plt.plot(X, sto2g_wavefunc(sto2g_coeff, X))\n",
    "plt.plot(X, sto3g_wavefunc(sto3g_coeff, X))\n",
    "plt.plot(X, sqrt(1.24**3/pi) * exp(-1.24 * X))\n",
    "plt.show()"
   ]
  },
  {
   "cell_type": "code",
   "execution_count": 6,
   "metadata": {},
   "outputs": [
    {
     "name": "stdout",
     "output_type": "stream",
     "text": [
      "[0.27681088 0.26781788 0.08350151 3.42619103 0.62412665 0.16889087]\n"
     ]
    }
   ],
   "source": [
    "from numpy.random import random\n",
    "\n",
    "print(minimize(fun = sto3g_loss_int, x0 = random(6)).x)"
   ]
  },
  {
   "cell_type": "code",
   "execution_count": 107,
   "metadata": {},
   "outputs": [
    {
     "data": {
      "text/plain": [
       "array([0.08344052, 0.26781802, 0.27689346, 0.16882857, 0.62388454,\n",
       "       3.42531643])"
      ]
     },
     "execution_count": 107,
     "metadata": {},
     "output_type": "execute_result"
    }
   ],
   "source": [
    "sto3g_coeff"
   ]
  },
  {
   "cell_type": "code",
   "execution_count": 66,
   "metadata": {},
   "outputs": [
    {
     "name": "stdout",
     "output_type": "stream",
     "text": [
      "[ 0.46522409  0.52721872 -0.08476278  3.34459354  0.27562611  0.27562572]\n"
     ]
    }
   ],
   "source": [
    "print(minimize(fun = sto3g_loss, x0 = (-0.2, -0.6, -1.3, 2.4, .5, 1.6)).x)"
   ]
  },
  {
   "cell_type": "code",
   "execution_count": null,
   "metadata": {},
   "outputs": [],
   "source": []
  }
 ],
 "metadata": {
  "kernelspec": {
   "display_name": "Python 3.9.7 ('base')",
   "language": "python",
   "name": "python3"
  },
  "language_info": {
   "codemirror_mode": {
    "name": "ipython",
    "version": 3
   },
   "file_extension": ".py",
   "mimetype": "text/x-python",
   "name": "python",
   "nbconvert_exporter": "python",
   "pygments_lexer": "ipython3",
   "version": "3.9.7"
  },
  "orig_nbformat": 4,
  "vscode": {
   "interpreter": {
    "hash": "5637242735df105300a10f363d5c0d18b4b77d7105ef62addc8c3980e22cd89c"
   }
  }
 },
 "nbformat": 4,
 "nbformat_minor": 2
}
