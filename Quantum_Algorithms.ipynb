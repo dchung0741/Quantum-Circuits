{
 "cells": [
  {
   "attachments": {},
   "cell_type": "markdown",
   "metadata": {},
   "source": [
    "# Quantum Algorithms"
   ]
  },
  {
   "cell_type": "code",
   "execution_count": 1,
   "metadata": {},
   "outputs": [],
   "source": [
    "from lib.QuantumCircuit import*\n",
    "from numpy import array, kron, pi, exp, sqrt, sin, cos, eye, zeros\n",
    "from functools import reduce"
   ]
  },
  {
   "cell_type": "code",
   "execution_count": 2,
   "metadata": {},
   "outputs": [],
   "source": [
    "X = array([[0, 1], [1, 0]])\n",
    "Y = array([[0, -1j], [1j, 0]])\n",
    "Z = array([[1, 0], [0, -1]])\n",
    "H = (X + Z)/sqrt(2)\n",
    "T = array([[1, 0], [0, exp(1j * pi/4)]])\n",
    "S = array([[1, 0], [0, 1j]])"
   ]
  },
  {
   "attachments": {},
   "cell_type": "markdown",
   "metadata": {},
   "source": [
    "## Deutsch Algorithm"
   ]
  },
  {
   "cell_type": "code",
   "execution_count": 3,
   "metadata": {},
   "outputs": [],
   "source": [
    "def Deutsch():\n",
    "        \n",
    "        o1 = generateQuantumGate(n = 4, free_bits_dict={0: 'X', 2: 'X'})\n",
    "        o2 = generateQuantumGate(n = 4, controlled_bits_dict={0: 1}, target_bits_dict={3: 'X'})\n",
    "        o3 = generateQuantumGate(n = 4, controlled_bits_dict={1: 1}, target_bits_dict={3: 'X'})\n",
    "        o4 = generateQuantumGate(n = 4, controlled_bits_dict={2: 1}, target_bits_dict={3: 'X'})\n",
    "        o5 = generateQuantumGate(n = 4, free_bits_dict={0: 'X', 2: 'X'})\n",
    "        oracle = reduce(lambda g1, g2: g1 @ g2, reversed([o1, o2, o3, o4, o5]))\n",
    "        oracle = oracle.simplify()\n",
    "\n",
    "\n",
    "        def oracle_output(state_tup):\n",
    "\n",
    "            state0 = state_tup + (0,)\n",
    "            state1 = state_tup + (1,) \n",
    "\n",
    "            out0 = (oracle @ SingleQuantumState(label_tup=state0)).evaluate()\n",
    "            out1 = (oracle @ SingleQuantumState(label_tup=state1)).evaluate()\n",
    "\n",
    "            if out0.label_tup[-1] == 0 and out1.label_tup[-1] == 1:\n",
    "                return 0\n",
    "            elif out0.label_tup[-1] == 1 and out1.label_tup[-1] == 0:\n",
    "                return 1\n",
    "\n",
    "        func_map = { (a, b, c): oracle_output((a, b, c)) for a, b, c in product(range(2), repeat=3)}\n",
    "        print(func_map)\n",
    "\n",
    "        state1 = SingleQuantumState(label_tup=(0, 0, 0, 0), coefficient=1/sqrt(2)) - SingleQuantumState(label_tup=(0, 0, 0, 1), coefficient=1/sqrt(2))\n",
    "        state1 = (oracle @ state1).evaluate()\n",
    "        print(state1)\n",
    "\n",
    "        state2 = SingleQuantumState(label_tup=(0, 0, 1, 0), coefficient=1/sqrt(2)) - SingleQuantumState(label_tup=(0, 0, 1, 1), coefficient=1/sqrt(2))\n",
    "        state2 = (oracle @ state2).evaluate()\n",
    "        print(state2)\n",
    "\n",
    "        def solution():\n",
    "\n",
    "            g1 = generateQuantumGate(n = 4, free_bits_dict={0: 'H', 1: 'H', 2: 'H', 3: 'X'}, additional_operator_dict={'H': H})\n",
    "            g2 = generateQuantumGate(n = 4, free_bits_dict={3: 'H'}, additional_operator_dict={'H': H})\n",
    "            g3 = oracle\n",
    "            g4 = generateQuantumGate(n = 4, free_bits_dict={0: 'H', 1: 'H', 2: 'H'}, additional_operator_dict={'H': H})\n",
    "            circuit = constructQuantumCircuit(g1, g2, g3, g4)#reduce(lambda g1, g2: g1 @ g2, reversed([g1, g2, g3, g4]))\n",
    "            circuit = circuit.simplify()\n",
    "\n",
    "            state = SingleQuantumState(label_tup=(0, 0, 0, 0))\n",
    "\n",
    "            state = (circuit @ state).evaluate()\n",
    "            \n",
    "            state = [s for s in state.rep if abs(s.coefficient) > 1e-10]\n",
    "\n",
    "            return sum(state)\n",
    "        \n",
    "        print('-------- solution ----------')\n",
    "        print(solution())"
   ]
  },
  {
   "cell_type": "code",
   "execution_count": 15,
   "metadata": {},
   "outputs": [
    {
     "name": "stdout",
     "output_type": "stream",
     "text": [
      "{(0, 0, 0): 0, (0, 0, 1): 1, (0, 1, 0): 1, (0, 1, 1): 0, (1, 0, 0): 1, (1, 0, 1): 0, (1, 1, 0): 0, (1, 1, 1): 1}\n",
      "0.7071067811865475 * (('I', 'I', 'I', 'I'),) @ (0, 0, 0, 0)\n",
      "-0.7071067811865475 * (('I', 'I', 'I', 'I'),) @ (0, 0, 0, 1)\n",
      "\n",
      "-0.7071067811865475 * (('I', 'I', 'I', 'I'),) @ (0, 0, 1, 0)\n",
      "0.7071067811865475 * (('I', 'I', 'I', 'I'),) @ (0, 0, 1, 1)\n",
      "\n",
      "-------- solution ----------\n",
      "(-0.7071067812807148+0j) * (('I', 'I', 'I', 'I'),) @ (1, 1, 1, 1)\n",
      "(0.7071067812807148+0j) * (('I', 'I', 'I', 'I'),) @ (1, 1, 1, 0)\n",
      "\n"
     ]
    }
   ],
   "source": [
    "Deutsch()"
   ]
  },
  {
   "attachments": {},
   "cell_type": "markdown",
   "metadata": {},
   "source": [
    "## Bernstein Vazirani Algorithm"
   ]
  },
  {
   "cell_type": "code",
   "execution_count": 13,
   "metadata": {},
   "outputs": [],
   "source": [
    "def Bernstein_Vazirani():\n",
    "    g1 = generateQuantumGate(n = 4, free_bits_dict={0: 'H', 1: 'H', 2: 'H', 3: 'H'}, additional_operator_dict={'H': H})\n",
    "    g2 = generateQuantumGate(n = 4, free_bits_dict={3: 'Z'})\n",
    "    g3 = generateQuantumGate(n = 4, controlled_bits_dict={0: 1}, target_bits_dict={3: 'X'})\n",
    "    g4 = generateQuantumGate(n = 4, controlled_bits_dict={1: 1}, target_bits_dict={3: 'X'})\n",
    "    g5 = generateQuantumGate(n = 4, free_bits_dict={0: 'H', 1: 'H', 2: 'H'}, additional_operator_dict={'H': H})\n",
    "    circuit = constructQuantumCircuit(g1, g2, g3, g4, g5)\n",
    "    circuit = circuit.simplify()\n",
    "\n",
    "    print(circuit)\n",
    "\n",
    "    state = SingleQuantumState(label_tup=(0, 0, 0, 0))\n",
    "    state = (circuit @ state).evaluate()\n",
    "    state = [s for s in state.rep if abs(s.coefficient) > 1e-10]\n",
    "    state = sum(state)\n",
    "    print(state)  \n"
   ]
  },
  {
   "cell_type": "code",
   "execution_count": 14,
   "metadata": {},
   "outputs": [
    {
     "name": "stdout",
     "output_type": "stream",
     "text": [
      "(('X', 'X', 'I', 'X'),): (-0.3535533906403574+0j)\n",
      "(('X', 'X', 'I', 'I'),): (0.3535533906403574+0j)\n",
      "(('I', 'I', 'I', 'I'),): 0.3535533906403574\n",
      "(('I', 'I', 'I', 'Z'),): (-0.3535533906403574+0j)\n",
      "(('I', 'I', 'I', 'Y'),): 0.3535533906403574j\n",
      "(('I', 'I', 'I', 'X'),): (0.3535533906403574+0j)\n",
      "(('X', 'X', 'I', 'Y'),): 0.3535533906403574j\n",
      "(('X', 'X', 'I', 'Z'),): (0.3535533906403574+0j)\n",
      "\n",
      "(-0.7071067812807148+0j) * (('I', 'I', 'I', 'I'),) @ (1, 1, 0, 1)\n",
      "(0.7071067812807148+0j) * (('I', 'I', 'I', 'I'),) @ (1, 1, 0, 0)\n",
      "\n"
     ]
    }
   ],
   "source": [
    "Bernstein_Vazirani()"
   ]
  }
 ],
 "metadata": {
  "kernelspec": {
   "display_name": "quantum",
   "language": "python",
   "name": "python3"
  },
  "language_info": {
   "codemirror_mode": {
    "name": "ipython",
    "version": 3
   },
   "file_extension": ".py",
   "mimetype": "text/x-python",
   "name": "python",
   "nbconvert_exporter": "python",
   "pygments_lexer": "ipython3",
   "version": "3.9.16"
  },
  "orig_nbformat": 4,
  "vscode": {
   "interpreter": {
    "hash": "ffc15848419a1f158a4386af4853d4eba72107e4944286960c4c996996489023"
   }
  }
 },
 "nbformat": 4,
 "nbformat_minor": 2
}
