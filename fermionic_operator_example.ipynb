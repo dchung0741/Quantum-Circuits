{
 "cells": [
  {
   "cell_type": "code",
   "execution_count": 1,
   "metadata": {},
   "outputs": [],
   "source": [
    "#from lib.FermionicHamiltonian import*\n",
    "from lib.FermionicOperator import*\n",
    "from lib.PauliString import*"
   ]
  },
  {
   "cell_type": "markdown",
   "metadata": {},
   "source": [
    "## Pauli String Demo"
   ]
  },
  {
   "cell_type": "code",
   "execution_count": 2,
   "metadata": {},
   "outputs": [
    {
     "name": "stdout",
     "output_type": "stream",
     "text": [
      "=======================================================\n",
      "sp1:\n",
      "(('X', 'I', 'X', 'Z'), ('Y', 'Z', 'X', 'Z')): (-0-3.5j)\n",
      "simplify sp1:\n",
      "('Z', 'Z', 'I', 'I'): (3.5-0j)\n",
      "=======================================================\n",
      "sp2:\n",
      "(('X', 'Y', 'I', 'X'),): 0.5j\n",
      "simplify sp2:\n",
      "('X', 'Y', 'I', 'X'): 0.5j\n",
      "=======================================================\n",
      "sp3:\n",
      "(('Z', 'Y', 'I', 'Y'),): 0.5j\n",
      "simplify sp3:\n",
      "('Z', 'Y', 'I', 'Y'): 0.5j\n",
      "=======================================================\n",
      "sp4:\n",
      "(('X', 'Y', 'I', 'X'), ('X', 'I', 'X', 'Z'), ('Y', 'Z', 'X', 'Z'), ('X', 'Y', 'I', 'X')): 0.875j\n",
      "(('X', 'Y', 'I', 'X'), ('X', 'I', 'X', 'Z'), ('Y', 'Z', 'X', 'Z'), ('Z', 'Y', 'I', 'Y')): 0.875j\n",
      "(('X', 'Y', 'I', 'X'), ('X', 'Y', 'I', 'X'), ('Z', 'Y', 'I', 'Y')): -0.125j\n",
      "(('X', 'Y', 'I', 'X'), ('X', 'Y', 'I', 'X'), ('X', 'Y', 'I', 'X')): -0.125j\n",
      "\n",
      "simplify sp4:\n",
      "('X', 'Z', 'I', 'Z'): 0.875j\n",
      "('Z', 'Z', 'I', 'I'): (-0.875+0j)\n",
      "('X', 'Y', 'I', 'X'): -0.125j\n",
      "('Z', 'Y', 'I', 'Y'): -0.125j\n",
      "\n",
      "sp4 matrix representation:\n",
      "[[ 0.   +0.875j  0.   +0.j     0.   +0.j     0.   +0.j     0.   +0.j\n",
      "   0.   +0.125j  0.   +0.j     0.   +0.j     0.   +0.875j  0.   +0.j\n",
      "   0.   +0.j     0.   +0.j     0.   +0.j    -0.125+0.j     0.   +0.j\n",
      "   0.   +0.j   ]\n",
      " [ 0.   +0.j     0.   +0.875j  0.   +0.j     0.   +0.j     0.   -0.125j\n",
      "   0.   +0.j     0.   +0.j     0.   +0.j     0.   +0.j     0.   -0.875j\n",
      "   0.   +0.j     0.   +0.j    -0.125+0.j     0.   +0.j     0.   +0.j\n",
      "   0.   +0.j   ]\n",
      " [ 0.   +0.j     0.   +0.j     0.   +0.875j  0.   +0.j     0.   +0.j\n",
      "   0.   +0.j     0.   +0.j     0.   +0.125j  0.   +0.j     0.   +0.j\n",
      "   0.   +0.875j  0.   +0.j     0.   +0.j     0.   +0.j     0.   +0.j\n",
      "  -0.125+0.j   ]\n",
      " [ 0.   +0.j     0.   +0.j     0.   +0.j     0.   +0.875j  0.   +0.j\n",
      "   0.   +0.j     0.   -0.125j  0.   +0.j     0.   +0.j     0.   +0.j\n",
      "   0.   +0.j     0.   -0.875j  0.   +0.j     0.   +0.j    -0.125+0.j\n",
      "   0.   +0.j   ]\n",
      " [ 0.   +0.j     0.   -0.125j  0.   +0.j     0.   +0.j     0.   -0.875j\n",
      "   0.   +0.j     0.   +0.j     0.   +0.j     0.   +0.j     0.125+0.j\n",
      "   0.   +0.j     0.   +0.j     0.   -0.875j  0.   +0.j     0.   +0.j\n",
      "   0.   +0.j   ]\n",
      " [ 0.   +0.125j  0.   +0.j     0.   +0.j     0.   +0.j     0.   +0.j\n",
      "   0.   -0.875j  0.   +0.j     0.   +0.j     0.125+0.j     0.   +0.j\n",
      "   0.   +0.j     0.   +0.j     0.   +0.j     0.   +0.875j  0.   +0.j\n",
      "   0.   +0.j   ]\n",
      " [ 0.   +0.j     0.   +0.j     0.   +0.j     0.   -0.125j  0.   +0.j\n",
      "   0.   +0.j     0.   -0.875j  0.   +0.j     0.   +0.j     0.   +0.j\n",
      "   0.   +0.j     0.125+0.j     0.   +0.j     0.   +0.j     0.   -0.875j\n",
      "   0.   +0.j   ]\n",
      " [ 0.   +0.j     0.   +0.j     0.   +0.125j  0.   +0.j     0.   +0.j\n",
      "   0.   +0.j     0.   +0.j     0.   -0.875j  0.   +0.j     0.   +0.j\n",
      "   0.125+0.j     0.   +0.j     0.   +0.j     0.   +0.j     0.   +0.j\n",
      "   0.   +0.875j]\n",
      " [ 0.   +0.875j  0.   +0.j     0.   +0.j     0.   +0.j     0.   +0.j\n",
      "  -0.125+0.j     0.   +0.j     0.   +0.j     0.   -0.875j  0.   +0.j\n",
      "   0.   +0.j     0.   +0.j     0.   +0.j     0.   -0.125j  0.   +0.j\n",
      "   0.   +0.j   ]\n",
      " [ 0.   +0.j     0.   -0.875j  0.   +0.j     0.   +0.j    -0.125+0.j\n",
      "   0.   +0.j     0.   +0.j     0.   +0.j     0.   +0.j     0.   -0.875j\n",
      "   0.   +0.j     0.   +0.j     0.   +0.125j  0.   +0.j     0.   +0.j\n",
      "   0.   +0.j   ]\n",
      " [ 0.   +0.j     0.   +0.j     0.   +0.875j  0.   +0.j     0.   +0.j\n",
      "   0.   +0.j     0.   +0.j    -0.125+0.j     0.   +0.j     0.   +0.j\n",
      "   0.   -0.875j  0.   +0.j     0.   +0.j     0.   +0.j     0.   +0.j\n",
      "   0.   -0.125j]\n",
      " [ 0.   +0.j     0.   +0.j     0.   +0.j     0.   -0.875j  0.   +0.j\n",
      "   0.   +0.j    -0.125+0.j     0.   +0.j     0.   +0.j     0.   +0.j\n",
      "   0.   +0.j     0.   -0.875j  0.   +0.j     0.   +0.j     0.   +0.125j\n",
      "   0.   +0.j   ]\n",
      " [ 0.   +0.j     0.125+0.j     0.   +0.j     0.   +0.j     0.   -0.875j\n",
      "   0.   +0.j     0.   +0.j     0.   +0.j     0.   +0.j     0.   +0.125j\n",
      "   0.   +0.j     0.   +0.j     0.   +0.875j  0.   +0.j     0.   +0.j\n",
      "   0.   +0.j   ]\n",
      " [ 0.125+0.j     0.   +0.j     0.   +0.j     0.   +0.j     0.   +0.j\n",
      "   0.   +0.875j  0.   +0.j     0.   +0.j     0.   -0.125j  0.   +0.j\n",
      "   0.   +0.j     0.   +0.j     0.   +0.j     0.   +0.875j  0.   +0.j\n",
      "   0.   +0.j   ]\n",
      " [ 0.   +0.j     0.   +0.j     0.   +0.j     0.125+0.j     0.   +0.j\n",
      "   0.   +0.j     0.   -0.875j  0.   +0.j     0.   +0.j     0.   +0.j\n",
      "   0.   +0.j     0.   +0.125j  0.   +0.j     0.   +0.j     0.   +0.875j\n",
      "   0.   +0.j   ]\n",
      " [ 0.   +0.j     0.   +0.j     0.125+0.j     0.   +0.j     0.   +0.j\n",
      "   0.   +0.j     0.   +0.j     0.   +0.875j  0.   +0.j     0.   +0.j\n",
      "   0.   -0.125j  0.   +0.j     0.   +0.j     0.   +0.j     0.   +0.j\n",
      "   0.   +0.875j]]\n"
     ]
    }
   ],
   "source": [
    "sp1 = SinglePauliString(operator_tup = (('X', 'I', 'X', 'Z'), ('Y', 'Z', 'X', 'Z')), coefficient = -3.5j)\n",
    "sp2 = SinglePauliString(operator_tup = (('X', 'Y', 'I', 'X'),), coefficient = 0.5j)\n",
    "sp3 = SinglePauliString(operator_tup = (('Z', 'Y', 'I', 'Y'),), coefficient = 0.5j)\n",
    "\n",
    "\n",
    "sp4 = sp2 @ (sp1 + sp2) @ (sp3 + sp2)\n",
    "\n",
    "print('=======================================================')\n",
    "print('sp1:')\n",
    "print(sp1)\n",
    "print('simplify sp1:')\n",
    "print(sp1.simplify())\n",
    "print('=======================================================')\n",
    "print('sp2:')\n",
    "print(sp2)\n",
    "print('simplify sp2:')\n",
    "print(sp2.simplify())\n",
    "print('=======================================================')\n",
    "print('sp3:')\n",
    "print(sp3)\n",
    "print('simplify sp3:')\n",
    "print(sp3.simplify())\n",
    "print('=======================================================')\n",
    "print('sp4:')\n",
    "print(sp4)\n",
    "print('simplify sp4:')\n",
    "print(sp4.simplify())\n",
    "print('sp4 matrix representation:')\n",
    "print(sp4.matrix_rep())"
   ]
  },
  {
   "attachments": {},
   "cell_type": "markdown",
   "metadata": {},
   "source": [
    "## Fermionic Operator Demo"
   ]
  },
  {
   "attachments": {},
   "cell_type": "markdown",
   "metadata": {},
   "source": [
    "### Basic arithmetic"
   ]
  },
  {
   "cell_type": "code",
   "execution_count": 3,
   "metadata": {},
   "outputs": [
    {
     "name": "stdout",
     "output_type": "stream",
     "text": [
      "sfo1: ((0, 0),): (-0-3.5j)\n",
      "sfo2: ((3, 0),): 0.5j\n",
      "sfo3: ((0, 1),): 2\n",
      "sfo4: ((1, 1),): 2\n",
      "fo1: ((0, 1),): 2\n",
      "((0, 0),): -3.5j\n",
      "((3, 0),): 0.5j\n",
      "\n",
      "fo2: ((0, 1),): 2\n",
      "((0, 0),): -3.5j\n",
      "((1, 1),): 2\n",
      "\n",
      "fo1 = sfo1 + sfo2 + sfo3: ((0, 1),): 2\n",
      "((0, 0),): -3.5j\n",
      "((3, 0),): 0.5j\n",
      "\n",
      "fo1 = sfo1 + sfo3 + sfo4: ((0, 1),): 2\n",
      "((0, 0),): -3.5j\n",
      "((1, 1),): 2\n",
      "\n",
      "sfo4 @ fo1: ((1, 1), (3, 0)): 1j\n",
      "((1, 1), (0, 0)): -7j\n",
      "((1, 1), (0, 1)): 4\n",
      "\n",
      "fo2 @ fo1: ((0, 0), (0, 0)): (-12.25+0j)\n",
      "((0, 1), (0, 0)): -7j\n",
      "((0, 1), (0, 1)): 4\n",
      "((1, 1), (0, 0)): -7j\n",
      "((1, 1), (0, 1)): 4\n",
      "((0, 0), (3, 0)): (1.75+0j)\n",
      "((0, 1), (3, 0)): 1j\n",
      "((1, 1), (3, 0)): 1j\n",
      "((0, 0), (0, 1)): -7j\n",
      "\n"
     ]
    }
   ],
   "source": [
    "sfo1 = SingleFermionicOperator(operator_tup = ((0, 0),), coefficient = -3.5j)\n",
    "sfo2 = SingleFermionicOperator(operator_tup = ((3, 0),), coefficient = 0.5j)\n",
    "sfo3 = SingleFermionicOperator(operator_tup = ((0, 1),), coefficient = 2)\n",
    "sfo4 = SingleFermionicOperator(operator_tup = ((1, 1),), coefficient = 2)\n",
    "fo1 = FermionicOperator(sfo1, sfo2, sfo3)\n",
    "fo2 = FermionicOperator(sfo1, sfo3, sfo4)\n",
    "\n",
    "\n",
    "print('sfo1:', sfo1)\n",
    "print('sfo2:', sfo2)\n",
    "print('sfo3:', sfo3)\n",
    "print('sfo4:', sfo4)\n",
    "print('fo1:', fo1)\n",
    "print('fo2:', fo2)\n",
    "print('fo1 = sfo1 + sfo2 + sfo3:', fo1)\n",
    "print('fo1 = sfo1 + sfo3 + sfo4:', fo2)\n",
    "print('sfo4 @ fo1:', sfo4 @ fo1)\n",
    "print('fo2 @ fo1:', fo2 @ fo1)"
   ]
  },
  {
   "attachments": {},
   "cell_type": "markdown",
   "metadata": {},
   "source": [
    "### Jordan-Wigner Encoding"
   ]
  },
  {
   "cell_type": "code",
   "execution_count": 4,
   "metadata": {},
   "outputs": [
    {
     "name": "stdout",
     "output_type": "stream",
     "text": [
      "(0, 0)\n",
      "(('X', 'I', 'I'),): 0.5\n",
      "(('Y', 'I', 'I'),): 0.5j\n",
      "\n",
      "(0, 1)\n",
      "(('X', 'I', 'I'),): 0.5\n",
      "(('Y', 'I', 'I'),): -0.5j\n",
      "\n",
      "(1, 0)\n",
      "(('Z', 'Y', 'I'),): 0.5j\n",
      "(('Z', 'X', 'I'),): 0.5\n",
      "\n",
      "(1, 1)\n",
      "(('Z', 'Y', 'I'),): -0.5j\n",
      "(('Z', 'X', 'I'),): 0.5\n",
      "\n",
      "(2, 0)\n",
      "(('Z', 'Z', 'X'),): 0.5\n",
      "(('Z', 'Z', 'Y'),): 0.5j\n",
      "\n",
      "(2, 1)\n",
      "(('Z', 'Z', 'X'),): 0.5\n",
      "(('Z', 'Z', 'Y'),): -0.5j\n",
      "\n"
     ]
    }
   ],
   "source": [
    "# FermionicOperator in Pauli-String Form\n",
    "n = 3\n",
    "jw = jwEncodingMap(n)\n",
    "for i, d in product(range(n), range(2)):\n",
    "    print((i, d))\n",
    "    print(jw[(i, d)])"
   ]
  },
  {
   "attachments": {},
   "cell_type": "markdown",
   "metadata": {},
   "source": [
    "Show anti-commutation relation"
   ]
  },
  {
   "cell_type": "code",
   "execution_count": 7,
   "metadata": {},
   "outputs": [
    {
     "name": "stdout",
     "output_type": "stream",
     "text": [
      "('I', 'I', 'I'): (1+0j)\n",
      "\n",
      "0\n"
     ]
    }
   ],
   "source": [
    "op1 = jw[(1, 1)] @ jw[(1, 0)]\n",
    "op2 = jw[(1, 0)] @ jw[(1, 1)]\n",
    "print(((op1 + op2).simplify()))\n",
    "\n",
    "\n",
    "op1 = jw[(1, 1)] @ jw[(2, 0)]\n",
    "op2 = jw[(2, 0)] @ jw[(1, 1)]\n",
    "print(((op1 + op2).simplify()))"
   ]
  },
  {
   "attachments": {},
   "cell_type": "markdown",
   "metadata": {},
   "source": [
    "jw encode an arbitrary FermionicOperator"
   ]
  },
  {
   "cell_type": "code",
   "execution_count": 6,
   "metadata": {},
   "outputs": [
    {
     "name": "stdout",
     "output_type": "stream",
     "text": [
      "('X', 'Z', 'X'): 0.875j\n",
      "('Y', 'Z', 'Y'): 0.875j\n",
      "('Y', 'Z', 'X'): (-0.875+0j)\n",
      "('X', 'Z', 'Y'): (0.875+0j)\n",
      "\n"
     ]
    }
   ],
   "source": [
    "sfo1 = SingleFermionicOperator(operator_tup = ((0, 0), (2, 1)), coefficient = -3.5j, jw_map=jw)\n",
    "print(sfo1.jw_encoding())"
   ]
  }
 ],
 "metadata": {
  "kernelspec": {
   "display_name": "Python 3.9.7 ('base')",
   "language": "python",
   "name": "python3"
  },
  "language_info": {
   "codemirror_mode": {
    "name": "ipython",
    "version": 3
   },
   "file_extension": ".py",
   "mimetype": "text/x-python",
   "name": "python",
   "nbconvert_exporter": "python",
   "pygments_lexer": "ipython3",
   "version": "3.9.7"
  },
  "orig_nbformat": 4,
  "vscode": {
   "interpreter": {
    "hash": "5637242735df105300a10f363d5c0d18b4b77d7105ef62addc8c3980e22cd89c"
   }
  }
 },
 "nbformat": 4,
 "nbformat_minor": 2
}
