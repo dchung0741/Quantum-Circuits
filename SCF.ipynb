{
 "cells": [
  {
   "cell_type": "markdown",
   "metadata": {},
   "source": [
    "# Hartree Fock Demo"
   ]
  },
  {
   "cell_type": "code",
   "execution_count": 2,
   "metadata": {},
   "outputs": [],
   "source": [
    "from lib.HartreeFock import *\n",
    "from numpy import linspace\n",
    "import matplotlib.pyplot as plt\n",
    "plt.rcParams[\"figure.figsize\"] = (12, 8)\n",
    "plt.rcParams[\"font.size\"] = 18"
   ]
  },
  {
   "attachments": {},
   "cell_type": "markdown",
   "metadata": {},
   "source": [
    "## SCF Computation - $H_2$"
   ]
  },
  {
   "cell_type": "code",
   "execution_count": 43,
   "metadata": {},
   "outputs": [],
   "source": [
    "hf = HartreeFock(molecule_geometry = [['H', [0, 0, 0]], ['H', [0, 0, 1.4]]], zeta_dict={'H': 1.24})"
   ]
  },
  {
   "cell_type": "code",
   "execution_count": 17,
   "metadata": {},
   "outputs": [
    {
     "data": {
      "text/plain": [
       "{'H': {'d1': 0.44462630971089295,\n",
       "  'd2': 0.5351916364885958,\n",
       "  'd3': 0.15431933316236712,\n",
       "  'a1': 0.16887301271145128,\n",
       "  'a2': 0.6240184995131708,\n",
       "  'a3': 3.4256935558534245}}"
      ]
     },
     "execution_count": 17,
     "metadata": {},
     "output_type": "execute_result"
    }
   ],
   "source": [
    "# sto-3g parameter computed by Hartree-Fock.get_sto3g_parameter() method\n",
    "hf.zeta_sto3g_param_dict"
   ]
  },
  {
   "cell_type": "code",
   "execution_count": 39,
   "metadata": {},
   "outputs": [
    {
     "name": "stdout",
     "output_type": "stream",
     "text": [
      "H_core\n",
      "[[-1.12006334 -0.95809351]\n",
      " [-0.95809351 -1.12006334]]\n",
      "V\n",
      "[array([[-1.22632265, -0.59723432],\n",
      "       [-0.59723432, -0.65363738]]), array([[-0.65363738, -0.59723432],\n",
      "       [-0.59723432, -1.22632265]])]\n",
      "F\n",
      "[[-0.36538879 -0.59371843]\n",
      " [-0.59371843 -0.36538879]]\n",
      "P\n",
      "[[0.60284307 0.60284307]\n",
      " [0.60284307 0.60284307]]\n",
      "C\n",
      "[[ 0.5490187 -1.2116083]\n",
      " [ 0.5490187  1.2116083]]\n",
      "eps\n",
      "[[-0.57819114  0.        ]\n",
      " [-0.          0.67037338]]\n",
      "E0\n",
      "-1.8309936018157233\n"
     ]
    }
   ],
   "source": [
    "print('H_core')\n",
    "print(hf.Hcore)\n",
    "\n",
    "print('V')\n",
    "print(hf.V)\n",
    "\n",
    "print('F')\n",
    "print(hf.F)\n",
    "\n",
    "print('P')\n",
    "print(hf.P)\n",
    "\n",
    "print('C')\n",
    "print(hf.C)\n",
    "\n",
    "print('eps')\n",
    "print(hf.eps)\n",
    "\n",
    "\n",
    "print('E0')\n",
    "print(hf.E0)"
   ]
  },
  {
   "cell_type": "code",
   "execution_count": 26,
   "metadata": {},
   "outputs": [
    {
     "data": {
      "text/plain": [
       "{'phi0 phi0 phi0 phi0': 0.7741803171193583,\n",
       " 'phi0 phi0 phi0 phi1': 0.4438416094952296,\n",
       " 'phi0 phi0 phi1 phi0': 0.4438416094952296,\n",
       " 'phi0 phi0 phi1 phi1': 0.5693471810352292,\n",
       " 'phi0 phi1 phi0 phi0': 0.4438416094952297,\n",
       " 'phi0 phi1 phi0 phi1': 0.2968398161545595,\n",
       " 'phi0 phi1 phi1 phi0': 0.29683981615455957,\n",
       " 'phi0 phi1 phi1 phi1': 0.4438416094952296,\n",
       " 'phi1 phi0 phi0 phi0': 0.4438416094952296,\n",
       " 'phi1 phi0 phi0 phi1': 0.2968398161545595,\n",
       " 'phi1 phi0 phi1 phi0': 0.2968398161545595,\n",
       " 'phi1 phi0 phi1 phi1': 0.4438416094952297,\n",
       " 'phi1 phi1 phi0 phi0': 0.5693471810352292,\n",
       " 'phi1 phi1 phi0 phi1': 0.4438416094952296,\n",
       " 'phi1 phi1 phi1 phi0': 0.4438416094952296,\n",
       " 'phi1 phi1 phi1 phi1': 0.7741803171193583}"
      ]
     },
     "execution_count": 26,
     "metadata": {},
     "output_type": "execute_result"
    }
   ],
   "source": [
    "# Basis integrals\n",
    "({f'phi{a} phi{b} phi{c} phi{d}': hf.RB_4_tensor[a, b, c, d] for a in range(2) for b in range(2) for c in range(2) for d in range(2)})"
   ]
  },
  {
   "cell_type": "code",
   "execution_count": 46,
   "metadata": {},
   "outputs": [
    {
     "data": {
      "text/plain": [
       "{'(psi0 psi0 | psi0 psi0)': 0.6745945016,\n",
       " '(psi0 psi0 | psi0 psi1)': 0.0,\n",
       " '(psi0 psi0 | psi1 psi0)': 0.0,\n",
       " '(psi0 psi0 | psi1 psi1)': 0.6635642689,\n",
       " '(psi0 psi1 | psi0 psi0)': 0.0,\n",
       " '(psi0 psi1 | psi0 psi1)': 0.1812579846,\n",
       " '(psi0 psi1 | psi1 psi0)': 0.1812579846,\n",
       " '(psi0 psi1 | psi1 psi1)': 0.0,\n",
       " '(psi1 psi0 | psi0 psi0)': 0.0,\n",
       " '(psi1 psi0 | psi0 psi1)': 0.1812579846,\n",
       " '(psi1 psi0 | psi1 psi0)': 0.1812579846,\n",
       " '(psi1 psi0 | psi1 psi1)': 0.0,\n",
       " '(psi1 psi1 | psi0 psi0)': 0.6635642689,\n",
       " '(psi1 psi1 | psi0 psi1)': 0.0,\n",
       " '(psi1 psi1 | psi1 psi0)': 0.0,\n",
       " '(psi1 psi1 | psi1 psi1)': 0.6974955491}"
      ]
     },
     "execution_count": 46,
     "metadata": {},
     "output_type": "execute_result"
    }
   ],
   "source": [
    "({f'(psi{a} psi{b} | psi{c} psi{d})': hf.psi_RB_4_tensor[a, b, c, d].round(10) for a in range(2) for b in range(2) for c in range(2) for d in range(2)})"
   ]
  },
  {
   "attachments": {},
   "cell_type": "markdown",
   "metadata": {},
   "source": [
    "## SCF Computation - $HeH^+$"
   ]
  },
  {
   "cell_type": "code",
   "execution_count": 56,
   "metadata": {},
   "outputs": [],
   "source": [
    "hf = HartreeFock(molecule_geometry = [['H', [0, 0, 0]], ['He', [0, 0, 1.4]]], zeta_dict={'H': 1.24, 'He': 2.0925}, SCF_iteration=0)"
   ]
  },
  {
   "attachments": {},
   "cell_type": "markdown",
   "metadata": {},
   "source": [
    "### Get integrals"
   ]
  },
  {
   "cell_type": "code",
   "execution_count": 48,
   "metadata": {},
   "outputs": [
    {
     "data": {
      "text/plain": [
       "{'H': {'d1': 0.4445467708259156,\n",
       "  'd2': 0.15431052102356949,\n",
       "  'd3': 0.5352493755791558,\n",
       "  'a1': 0.16885291651428913,\n",
       "  'a2': 3.425172532755121,\n",
       "  'a3': 0.6238955118523384},\n",
       " 'He': {'d1': 0.1542361757920648,\n",
       "  'd2': 0.444616734088975,\n",
       "  'd3': 0.535202944792975,\n",
       "  'a1': 9.757241501554514,\n",
       "  'a2': 0.4810226531264511,\n",
       "  'a3': 1.7767976263267098}}"
      ]
     },
     "execution_count": 48,
     "metadata": {},
     "output_type": "execute_result"
    }
   ],
   "source": [
    "# sto-3g parameter computed by Hartree-Fock.get_sto3g_parameter() method\n",
    "hf.zeta_sto3g_param_dict"
   ]
  },
  {
   "cell_type": "code",
   "execution_count": 49,
   "metadata": {},
   "outputs": [
    {
     "name": "stdout",
     "output_type": "stream",
     "text": [
      "H_core\n",
      "[[-1.77365667 -1.42664041]\n",
      " [-1.42664041 -2.68073494]]\n",
      "V\n",
      "[array([[-1.22621695, -0.44431621],\n",
      "       [-0.44431621, -0.70589639]]), array([[-1.30722841, -1.17294296],\n",
      "       [-1.17294296, -4.13823192]])]\n",
      "F\n",
      "[[-0.84448989 -1.10397278]\n",
      " [-1.10397278 -1.48691613]]\n",
      "P\n",
      "[[0.22791917 0.53679742]\n",
      " [0.53679742 1.26427048]]\n",
      "C\n",
      "[[-0.337579    1.08428769]\n",
      " [-0.79506933 -0.81088481]]\n",
      "eps\n",
      "[[-1.62877955  0.        ]\n",
      " [-0.         -0.02925055]]\n",
      "E0\n",
      "-4.291308636216382\n"
     ]
    }
   ],
   "source": [
    "print('H_core')\n",
    "print(hf.Hcore)\n",
    "\n",
    "print('V')\n",
    "print(hf.V)\n",
    "\n",
    "print('F')\n",
    "print(hf.F)\n",
    "\n",
    "print('P')\n",
    "print(hf.P)\n",
    "\n",
    "print('C')\n",
    "print(hf.C)\n",
    "\n",
    "print('eps')\n",
    "print(hf.eps)\n",
    "\n",
    "\n",
    "print('E0')\n",
    "print(hf.E0)"
   ]
  },
  {
   "cell_type": "code",
   "execution_count": 50,
   "metadata": {},
   "outputs": [
    {
     "data": {
      "text/plain": [
       "{'phi0 phi0 phi0 phi0': 0.774102510736288,\n",
       " 'phi0 phi0 phi0 phi1': 0.3327588413813985,\n",
       " 'phi0 phi0 phi1 phi0': 0.33275884138139844,\n",
       " 'phi0 phi0 phi1 phi1': 0.6225895933713709,\n",
       " 'phi0 phi1 phi0 phi0': 0.3327588413813983,\n",
       " 'phi0 phi1 phi0 phi1': 0.1974187506821267,\n",
       " 'phi0 phi1 phi1 phi0': 0.19741875068212666,\n",
       " 'phi0 phi1 phi1 phi1': 0.4633312287395544,\n",
       " 'phi1 phi0 phi0 phi0': 0.3327588413813984,\n",
       " 'phi1 phi0 phi0 phi1': 0.1974187506821266,\n",
       " 'phi1 phi0 phi1 phi0': 0.1974187506821266,\n",
       " 'phi1 phi0 phi1 phi1': 0.46333122873955435,\n",
       " 'phi1 phi1 phi0 phi0': 0.6225895933713711,\n",
       " 'phi1 phi1 phi0 phi1': 0.4633312287395544,\n",
       " 'phi1 phi1 phi1 phi0': 0.4633312287395544,\n",
       " 'phi1 phi1 phi1 phi1': 1.3062101293129056}"
      ]
     },
     "execution_count": 50,
     "metadata": {},
     "output_type": "execute_result"
    }
   ],
   "source": [
    "# Basis integrals\n",
    "({f'phi{a} phi{b} phi{c} phi{d}': hf.RB_4_tensor[a, b, c, d] for a in range(2) for b in range(2) for c in range(2) for d in range(2)})"
   ]
  },
  {
   "cell_type": "code",
   "execution_count": 51,
   "metadata": {},
   "outputs": [
    {
     "data": {
      "text/plain": [
       "{'psi0 psi0 psi0 psi0': 1.0337495455,\n",
       " 'psi0 psi0 psi0 psi1': 0.2397207367,\n",
       " 'psi0 psi0 psi1 psi0': 0.2397207367,\n",
       " 'psi0 psi0 psi1 psi1': 0.2129617442,\n",
       " 'psi0 psi1 psi0 psi0': 0.2397207367,\n",
       " 'psi0 psi1 psi0 psi1': 0.7614706715,\n",
       " 'psi0 psi1 psi1 psi0': 0.2129617442,\n",
       " 'psi0 psi1 psi1 psi1': 0.0263986349,\n",
       " 'psi1 psi0 psi0 psi0': 0.2397207367,\n",
       " 'psi1 psi0 psi0 psi1': 0.2129617442,\n",
       " 'psi1 psi0 psi1 psi0': 0.7614706715,\n",
       " 'psi1 psi0 psi1 psi1': 0.0263986349,\n",
       " 'psi1 psi1 psi0 psi0': 0.2129617442,\n",
       " 'psi1 psi1 psi0 psi1': 0.0263986349,\n",
       " 'psi1 psi1 psi1 psi0': 0.0263986349,\n",
       " 'psi1 psi1 psi1 psi1': 0.7604273031}"
      ]
     },
     "execution_count": 51,
     "metadata": {},
     "output_type": "execute_result"
    }
   ],
   "source": [
    "({f'psi{a} psi{b} psi{c} psi{d}': hf.psi_AB_4_tensor[a, b, c, d].round(10) for a in range(2) for b in range(2) for c in range(2) for d in range(2)})"
   ]
  },
  {
   "attachments": {},
   "cell_type": "markdown",
   "metadata": {},
   "source": [
    "### Run the SCF loop"
   ]
  },
  {
   "cell_type": "code",
   "execution_count": 57,
   "metadata": {},
   "outputs": [
    {
     "name": "stdout",
     "output_type": "stream",
     "text": [
      "cnt = 0, P00 = 0.0593, P01 = 0.3132, P11 = 1.6530, E0 = -5.3198\n",
      "cnt = 1, P00 = 0.2351, P01 = 0.5443, P11 = 1.2599, E0 = -4.1446\n",
      "cnt = 2, P00 = 0.2584, P01 = 0.5615, P11 = 1.2204, E0 = -4.2162\n",
      "cnt = 3, P00 = 0.2601, P01 = 0.5628, P11 = 1.2175, E0 = -4.2229\n",
      "cnt = 4, P00 = 0.2603, P01 = 0.5629, P11 = 1.2173, E0 = -4.2234\n",
      "cnt = 5, P00 = 0.2603, P01 = 0.5629, P11 = 1.2172, E0 = -4.2234\n",
      "cnt = 6, P00 = 0.2603, P01 = 0.5629, P11 = 1.2172, E0 = -4.2234\n",
      "cnt = 7, P00 = 0.2603, P01 = 0.5629, P11 = 1.2172, E0 = -4.2234\n",
      "cnt = 8, P00 = 0.2603, P01 = 0.5629, P11 = 1.2172, E0 = -4.2234\n",
      "cnt = 9, P00 = 0.2603, P01 = 0.5629, P11 = 1.2172, E0 = -4.2234\n",
      "cnt = 10, P00 = 0.2603, P01 = 0.5629, P11 = 1.2172, E0 = -4.2234\n"
     ]
    }
   ],
   "source": [
    "hf.SCF_loop(n_iter=10, show_iter_info=True)"
   ]
  },
  {
   "cell_type": "markdown",
   "metadata": {},
   "source": [
    "## Finding the equillibrium bond length"
   ]
  },
  {
   "cell_type": "code",
   "execution_count": 28,
   "metadata": {},
   "outputs": [],
   "source": [
    "zeta_sto3g_param = {'H': {'d1': 0.4445552091948825, 'd2': 0.5352232023083906, 'd3': 0.15432669889572, \n",
    "                           'a1': 0.16885477998091206, 'a2': 0.6238951181789986, 'a3': 3.4249357542890673},\n",
    "                    'He': {'d1': 0.1560428816721606, 'd2': 0.44277856834372026, 'd3': 0.535212374440112, \n",
    "                           'a1': 9.638138077379443, 'a2': 0.47981409046842505, 'a3': 1.7667449635820272}}\n",
    "\n",
    "E_H2_list = []\n",
    "E_HeH_list = []\n",
    "R_list = linspace(0.5, 3.5, 500)\n",
    "for R in R_list:\n",
    "    \n",
    "    hf1 = HartreeFock(molecule_geometry = [['H', [0, 0, 0]], ['H', [0, 0, R]]], \n",
    "                      zeta_dict={'H': 1.24, 'He': 2.0925}, \n",
    "                      zeta_sto3g_param=zeta_sto3g_param, \n",
    "                      SCF_iteration = 100)\n",
    "\n",
    "    hf2 = HartreeFock(molecule_geometry = [['H', [0, 0, 0]], ['He', [0, 0, R]]], \n",
    "                      zeta_dict={'H': 1.24, 'He': 2.0925}, \n",
    "                      zeta_sto3g_param=zeta_sto3g_param, \n",
    "                      SCF_iteration = 100)\n",
    "    \n",
    "    E_H2_list.append(hf1.E0 + hf1.VN)\n",
    "    E_HeH_list.append(hf2.E0 + hf2.VN)\n",
    "\n",
    "\n",
    "E_H2_list  = array(E_H2_list)\n",
    "E_HeH_list = array(E_HeH_list)"
   ]
  },
  {
   "cell_type": "code",
   "execution_count": 36,
   "metadata": {},
   "outputs": [
    {
     "data": {
      "image/png": "[encoded data removed]",
      "text/plain": [
       "<Figure size 864x576 with 1 Axes>"
      ]
     },
     "metadata": {
      "needs_background": "light"
     },
     "output_type": "display_data"
    }
   ],
   "source": [
    "plt.plot(R_list, E_H2_list - 2 * (-0.466582), label = '$E(H_2) - 2E(H)$')\n",
    "plt.plot(R_list, E_HeH_list - (-2.643876), label = '$E(HeH^+) - E(He)$')\n",
    "plt.xlabel(\"R\")\n",
    "plt.ylabel(\"Energy difference\")\n",
    "plt.xlim(min(R_list), max(R_list))\n",
    "plt.legend()\n",
    "plt.grid(True)\n",
    "plt.show()"
   ]
  }
 ],
 "metadata": {
  "kernelspec": {
   "display_name": "Python 3.9.7 ('base')",
   "language": "python",
   "name": "python3"
  },
  "language_info": {
   "codemirror_mode": {
    "name": "ipython",
    "version": 3
   },
   "file_extension": ".py",
   "mimetype": "text/x-python",
   "name": "python",
   "nbconvert_exporter": "python",
   "pygments_lexer": "ipython3",
   "version": "3.9.7"
  },
  "orig_nbformat": 4,
  "vscode": {
   "interpreter": {
    "hash": "5637242735df105300a10f363d5c0d18b4b77d7105ef62addc8c3980e22cd89c"
   }
  }
 },
 "nbformat": 4,
 "nbformat_minor": 2
}
