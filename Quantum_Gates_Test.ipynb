{
 "cells": [
  {
   "cell_type": "code",
   "execution_count": 1,
   "metadata": {},
   "outputs": [],
   "source": [
    "import numpy as np\n",
    "from numpy import array\n",
    "import mpmath as mp\n",
    "from sympy import Rational, I, Matrix, conjugate\n",
    "from Quantum_Gate_np import*"
   ]
  },
  {
   "cell_type": "code",
   "execution_count": 15,
   "metadata": {},
   "outputs": [],
   "source": [
    "CNOT = QuantumGate(n = 2, free_bits_dict={}, target_bits_dict={1: X}, controlled_bits_dict={0: 1})"
   ]
  },
  {
   "cell_type": "code",
   "execution_count": 16,
   "metadata": {},
   "outputs": [
    {
     "data": {
      "text/plain": [
       "array([[1., 0., 0., 0.],\n",
       "       [0., 1., 0., 0.],\n",
       "       [0., 0., 0., 1.],\n",
       "       [0., 0., 1., 0.]])"
      ]
     },
     "execution_count": 16,
     "metadata": {},
     "output_type": "execute_result"
    }
   ],
   "source": [
    "CNOT.matrix_rep"
   ]
  },
  {
   "cell_type": "code",
   "execution_count": 17,
   "metadata": {},
   "outputs": [
    {
     "data": {
      "text/plain": [
       "[True, True, True, True, True, True]"
      ]
     },
     "execution_count": 17,
     "metadata": {},
     "output_type": "execute_result"
    }
   ],
   "source": [
    "[\n",
    "    (CNOT.matrix_rep @ kron(X, Id2) @ CNOT.matrix_rep == kron(X, Id2) @ kron(Id2, X)).all(),\n",
    "    (CNOT.matrix_rep @ kron(Y, Id2) @ CNOT.matrix_rep == kron(Y, Id2) @ kron(Id2, X)).all(),\n",
    "    (CNOT.matrix_rep @ kron(Z, Id2) @ CNOT.matrix_rep == kron(Z, Id2)).all(),\n",
    "    (CNOT.matrix_rep @ kron(Id2, X) @ CNOT.matrix_rep == kron(Id2, X)).all(),\n",
    "    (CNOT.matrix_rep @ kron(Id2, Y) @ CNOT.matrix_rep == kron(Z, Id2) @ kron(Id2, Y)).all(),\n",
    "    (CNOT.matrix_rep @ kron(Id2, Z) @ CNOT.matrix_rep == kron(Z, Id2) @ kron(Id2, Z)).all(),\n",
    "]"
   ]
  },
  {
   "cell_type": "code",
   "execution_count": 18,
   "metadata": {},
   "outputs": [],
   "source": [
    "Toffoli_c0c1_t2 = QuantumGate(n = 3, free_bits_dict={}, target_bits_dict={2: X}, controlled_bits_dict={0: 1, 1: 1})\n",
    "Toffoli_c0c2_t1 = QuantumGate(n = 3, free_bits_dict={}, target_bits_dict={1: X}, controlled_bits_dict={0: 1, 2: 1})\n",
    "Toffoli_c1c2_t0 = QuantumGate(n = 3, free_bits_dict={}, target_bits_dict={0: X}, controlled_bits_dict={1: 1, 2: 1})"
   ]
  },
  {
   "cell_type": "code",
   "execution_count": 25,
   "metadata": {},
   "outputs": [
    {
     "name": "stdout",
     "output_type": "stream",
     "text": [
      "[False, False, False, True, False, False, False, False, False, False, True, False, False, False, False, False, False, False, False, False, False, False, False, False, False, False, False]\n"
     ]
    }
   ],
   "source": [
    "Fredkin = array([[1, 0, 0, 0, 0, 0, 0, 0], \n",
    "                 [0, 1, 0, 0, 0, 0, 0, 0], \n",
    "                 [0, 0, 1, 0, 0, 0, 0, 0],\n",
    "                 [0, 0, 0, 1, 0, 0, 0, 0],\n",
    "                 [0, 0, 0, 0, 1, 0, 0, 0],\n",
    "                 [0, 0, 0, 0, 0, 0, 1, 0],\n",
    "                 [0, 0, 0, 0, 0, 1, 0, 0],\n",
    "                 [0, 0, 0, 0, 0, 0, 0, 1]])\n",
    "                  \n",
    "all_combo = list(itertools.product(*[[\n",
    "                                      Toffoli_c0c1_t2.matrix_rep, \n",
    "                                      Toffoli_c0c2_t1.matrix_rep, \n",
    "                                      Toffoli_c1c2_t0.matrix_rep]\n",
    "                                    ] * 3))\n",
    "                                    \n",
    "eval_combo = list(map(lambda comb: (reduce(lambda m1, m2: m1 @ m2, comb) == Fredkin).all(), all_combo))\n",
    "print(eval_combo)"
   ]
  },
  {
   "cell_type": "code",
   "execution_count": 27,
   "metadata": {},
   "outputs": [
    {
     "data": {
      "text/plain": [
       "[True, True]"
      ]
     },
     "execution_count": 27,
     "metadata": {},
     "output_type": "execute_result"
    }
   ],
   "source": [
    "[\n",
    "    (Toffoli_c0c1_t2.matrix_rep @ Toffoli_c0c2_t1.matrix_rep @ Toffoli_c0c1_t2.matrix_rep == Fredkin).all(),\n",
    "    (Toffoli_c0c2_t1.matrix_rep @ Toffoli_c0c1_t2.matrix_rep @ Toffoli_c0c2_t1.matrix_rep == Fredkin).all()\n",
    "]"
   ]
  },
  {
   "cell_type": "code",
   "execution_count": 28,
   "metadata": {},
   "outputs": [],
   "source": [
    "G1 = QuantumGate(n = 3, free_bits_dict={0: H}, target_bits_dict={}, controlled_bits_dict={})\n",
    "G2 = QuantumGate(n = 3, free_bits_dict={}, target_bits_dict={0: S}, controlled_bits_dict={1: 1})\n",
    "G3 = QuantumGate(n = 3, free_bits_dict={}, target_bits_dict={0: T}, controlled_bits_dict={2: 1})\n",
    "G4 = QuantumGate(n = 3, free_bits_dict={1: H}, target_bits_dict={}, controlled_bits_dict={})\n",
    "G5 = QuantumGate(n = 3, free_bits_dict={}, target_bits_dict={1: S}, controlled_bits_dict={2: 1})\n",
    "G6 = QuantumGate(n = 3, free_bits_dict={2: H}, target_bits_dict={}, controlled_bits_dict={})\n"
   ]
  },
  {
   "cell_type": "code",
   "execution_count": 29,
   "metadata": {},
   "outputs": [],
   "source": [
    "circuit = [G1, G2, G3, G4, G5, G6]\n",
    "circuit = map(lambda gate: gate.matrix_rep, reversed(circuit))\n",
    "swap = reduce(lambda m1, m2: m1 + m2, [(BasisKet(s1, s2, s3).matrix_rep @ BasisKet(s3, s2, s1).matrix_rep.T) for s1 in range(2) for s2 in range(2) for s3 in range(2)])\n",
    "FT = sqrt(8) * swap @ reduce(lambda g1, g2: g1 @ g2, circuit)"
   ]
  },
  {
   "cell_type": "code",
   "execution_count": 108,
   "metadata": {},
   "outputs": [
    {
     "data": {
      "text/latex": [
       "$\\displaystyle \\left[\\begin{matrix}1 & 1 & 1 & 1 & 1 & 1 & 1 & 1\\\\1 & e^{\\frac{i \\pi}{4}} & i & i e^{\\frac{i \\pi}{4}} & -1 & - e^{\\frac{i \\pi}{4}} & - i & - i e^{\\frac{i \\pi}{4}}\\\\1 & i & -1 & - i & 1 & i & -1 & - i\\\\1 & i e^{\\frac{i \\pi}{4}} & - i & e^{\\frac{i \\pi}{4}} & -1 & - i e^{\\frac{i \\pi}{4}} & i & - e^{\\frac{i \\pi}{4}}\\\\1 & -1 & 1 & -1 & 1 & -1 & 1 & -1\\\\1 & - e^{\\frac{i \\pi}{4}} & i & - i e^{\\frac{i \\pi}{4}} & -1 & e^{\\frac{i \\pi}{4}} & - i & i e^{\\frac{i \\pi}{4}}\\\\1 & - i & -1 & i & 1 & - i & -1 & i\\\\1 & - i e^{\\frac{i \\pi}{4}} & - i & - e^{\\frac{i \\pi}{4}} & -1 & i e^{\\frac{i \\pi}{4}} & i & e^{\\frac{i \\pi}{4}}\\end{matrix}\\right]$"
      ],
      "text/plain": [
       "Matrix([\n",
       "[1,              1,  1,              1,  1,              1,  1,              1],\n",
       "[1,    exp(I*pi/4),  I,  I*exp(I*pi/4), -1,   -exp(I*pi/4), -I, -I*exp(I*pi/4)],\n",
       "[1,              I, -1,             -I,  1,              I, -1,             -I],\n",
       "[1,  I*exp(I*pi/4), -I,    exp(I*pi/4), -1, -I*exp(I*pi/4),  I,   -exp(I*pi/4)],\n",
       "[1,             -1,  1,             -1,  1,             -1,  1,             -1],\n",
       "[1,   -exp(I*pi/4),  I, -I*exp(I*pi/4), -1,    exp(I*pi/4), -I,  I*exp(I*pi/4)],\n",
       "[1,             -I, -1,              I,  1,             -I, -1,              I],\n",
       "[1, -I*exp(I*pi/4), -I,   -exp(I*pi/4), -1,  I*exp(I*pi/4),  I,    exp(I*pi/4)]])"
      ]
     },
     "execution_count": 108,
     "metadata": {},
     "output_type": "execute_result"
    }
   ],
   "source": [
    "FT"
   ]
  },
  {
   "cell_type": "code",
   "execution_count": 40,
   "metadata": {},
   "outputs": [
    {
     "data": {
      "text/plain": [
       "True"
      ]
     },
     "execution_count": 40,
     "metadata": {},
     "output_type": "execute_result"
    }
   ],
   "source": [
    "omega = exp(I * pi / 4)\n",
    "FT_res = [[1, 1, 1, 1, 1, 1, 1, 1]]\n",
    "FT_res += ([[omega**p for p in range(0, i * 8, i)] for i in range(1, 8)])\n",
    "FT_res = array(FT_res)\n",
    "((FT_res - FT).round(10) == 0).all()"
   ]
  },
  {
   "cell_type": "code",
   "execution_count": 117,
   "metadata": {},
   "outputs": [
    {
     "data": {
      "text/latex": [
       "$\\displaystyle \\left[\\begin{matrix}0 & 0 & 0 & 0 & 0 & 0 & 0 & 0\\\\0 & 0 & 0 & - i e^{\\frac{i \\pi}{4}} + e^{\\frac{3 i \\pi}{4}} & 0 & e^{- \\frac{3 i \\pi}{4}} + e^{\\frac{i \\pi}{4}} & 0 & e^{- \\frac{i \\pi}{4}} + i e^{\\frac{i \\pi}{4}}\\\\0 & 0 & 0 & 0 & 0 & 0 & 0 & 0\\\\0 & - i e^{\\frac{i \\pi}{4}} + e^{\\frac{3 i \\pi}{4}} & 0 & 0 & 0 & e^{- \\frac{i \\pi}{4}} + i e^{\\frac{i \\pi}{4}} & 0 & e^{- \\frac{3 i \\pi}{4}} + e^{\\frac{i \\pi}{4}}\\\\0 & 0 & 0 & 0 & 0 & 0 & 0 & 0\\\\0 & e^{- \\frac{3 i \\pi}{4}} + e^{\\frac{i \\pi}{4}} & 0 & e^{- \\frac{i \\pi}{4}} + i e^{\\frac{i \\pi}{4}} & 0 & 0 & 0 & - i e^{\\frac{i \\pi}{4}} + e^{\\frac{3 i \\pi}{4}}\\\\0 & 0 & 0 & 0 & 0 & 0 & 0 & 0\\\\0 & e^{- \\frac{i \\pi}{4}} + i e^{\\frac{i \\pi}{4}} & 0 & e^{- \\frac{3 i \\pi}{4}} + e^{\\frac{i \\pi}{4}} & 0 & - i e^{\\frac{i \\pi}{4}} + e^{\\frac{3 i \\pi}{4}} & 0 & 0\\end{matrix}\\right]$"
      ],
      "text/plain": [
       "Matrix([\n",
       "[0,                              0, 0,                              0, 0,                              0, 0,                              0],\n",
       "[0,                              0, 0, -I*exp(I*pi/4) + exp(3*I*pi/4), 0,   exp(-3*I*pi/4) + exp(I*pi/4), 0,   exp(-I*pi/4) + I*exp(I*pi/4)],\n",
       "[0,                              0, 0,                              0, 0,                              0, 0,                              0],\n",
       "[0, -I*exp(I*pi/4) + exp(3*I*pi/4), 0,                              0, 0,   exp(-I*pi/4) + I*exp(I*pi/4), 0,   exp(-3*I*pi/4) + exp(I*pi/4)],\n",
       "[0,                              0, 0,                              0, 0,                              0, 0,                              0],\n",
       "[0,   exp(-3*I*pi/4) + exp(I*pi/4), 0,   exp(-I*pi/4) + I*exp(I*pi/4), 0,                              0, 0, -I*exp(I*pi/4) + exp(3*I*pi/4)],\n",
       "[0,                              0, 0,                              0, 0,                              0, 0,                              0],\n",
       "[0,   exp(-I*pi/4) + I*exp(I*pi/4), 0,   exp(-3*I*pi/4) + exp(I*pi/4), 0, -I*exp(I*pi/4) + exp(3*I*pi/4), 0,                              0]])"
      ]
     },
     "execution_count": 117,
     "metadata": {},
     "output_type": "execute_result"
    }
   ],
   "source": [
    "res = [[1, 1, 1, 1, 1, 1, 1, 1]]\n",
    "res += ([[omega**p for p in range(0, i * 8, i)] for i in range(1, 8)])\n",
    "xxx = (Matrix(res) - FT)\n",
    "xxx.expand().simplify()\n",
    "xxx"
   ]
  },
  {
   "cell_type": "code",
   "execution_count": null,
   "metadata": {},
   "outputs": [],
   "source": [
    "[\n",
    "    G2.matrix_rep @ BasisKet(0, 0, 0).mat_rep == BasisKet(0, 0, 0).mat_rep,\n",
    "    G2.matrix_rep @ BasisKet(0, 0, 1).mat_rep == BasisKet(0, 0, 1).mat_rep,\n",
    "    G2.matrix_rep @ BasisKet(0, 1, 0).mat_rep == BasisKet(1, 1, 0).mat_rep,\n",
    "    G2.matrix_rep @ BasisKet(0, 1, 1).mat_rep == BasisKet(1, 1, 1).mat_rep,\n",
    "    G2.matrix_rep @ BasisKet(1, 0, 0).mat_rep == BasisKet(1, 0, 0).mat_rep,\n",
    "    G2.matrix_rep @ BasisKet(1, 0, 1).mat_rep == BasisKet(1, 0, 1).mat_rep,\n",
    "    G2.matrix_rep @ BasisKet(1, 1, 0).mat_rep == BasisKet(0, 1, 0).mat_rep,\n",
    "    G2.matrix_rep @ BasisKet(1, 1, 1).mat_rep == BasisKet(0, 1, 1).mat_rep\n",
    "]"
   ]
  },
  {
   "cell_type": "code",
   "execution_count": null,
   "metadata": {},
   "outputs": [],
   "source": []
  }
 ],
 "metadata": {
  "kernelspec": {
   "display_name": "Python 3.9.10 64-bit",
   "language": "python",
   "name": "python3"
  },
  "language_info": {
   "codemirror_mode": {
    "name": "ipython",
    "version": 3
   },
   "file_extension": ".py",
   "mimetype": "text/x-python",
   "name": "python",
   "nbconvert_exporter": "python",
   "pygments_lexer": "ipython3",
   "version": "3.9.10"
  },
  "orig_nbformat": 4,
  "vscode": {
   "interpreter": {
    "hash": "aee8b7b246df8f9039afb4144a1f6fd8d2ca17a180786b69acc140d282b71a49"
   }
  }
 },
 "nbformat": 4,
 "nbformat_minor": 2
}
