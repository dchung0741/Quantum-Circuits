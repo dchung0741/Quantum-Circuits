{
 "cells": [
  {
   "cell_type": "code",
   "execution_count": 1,
   "metadata": {},
   "outputs": [],
   "source": [
    "import numpy as np\n",
    "from numpy import array\n",
    "import mpmath as mp\n",
    "from sympy import Rational, I, Matrix, conjugate\n",
    "from lib.Quantum_Gate import*"
   ]
  },
  {
   "cell_type": "code",
   "execution_count": 3,
   "metadata": {},
   "outputs": [],
   "source": [
    "depth = 4\n",
    "n_qubit = 4\n",
    "\n",
    "theta_list = array([0.02079189, 0.00235033, 0.09573877, 0.0639465 , 0.09211189,\n",
    "                    0.05688106, 0.01384982, 0.07353305, 0.0878204 , 0.08185363,\n",
    "                    0.08562515, 0.02719939, 0.02580532, 0.09707807, 0.06922412,\n",
    "                    0.09455639, 0.06455879, 0.08176525, 0.0911463 , 0.02048777,\n",
    "                    0.06133914, 0.04129286, 0.07086013, 0.05953184, 0.06898568,\n",
    "                    0.01648067, 0.05190176, 0.04106014, 0.07122461, 0.01818565,\n",
    "                    0.04476437, 0.06943988, 0.05247202, 0.03005271, 0.09488198,\n",
    "                    0.04826924, 0.05005464, 0.02158583, 0.03481481, 0.01314292])\n",
    "\n",
    "\n",
    "Hamiltonian = [ (-0.09886396933545755+0j) * reduce(kron, (Id2, Id2, Id2, Id2)),\n",
    "                (-0.045322202052874024+0j) * reduce(kron, (X, X, Y, Y)),\n",
    "                (0.045322202052874024+0j) * reduce(kron, (X, Y, Y, X)),\n",
    "                (0.045322202052874024+0j) * reduce(kron, (Y, X, X, Y)),\n",
    "                (-0.045322202052874024+0j) * reduce(kron, (Y, Y, X, X)),\n",
    "                (0.1711977490343294+0j) * reduce(kron, (Z, Id2, Id2, Id2)),\n",
    "                (0.1686221915892096+0j) * reduce(kron, (Z, Z, Id2, Id2)),\n",
    "                (0.12054482205301814+0j) * reduce(kron, (Z, Id2, Z, Id2)),\n",
    "                (0.16586702410589216+0j) * reduce(kron, (Z, Id2, Id2, Z)),\n",
    "                (0.1711977490343294+0j) * reduce(kron, (Id2, Z, Id2, Id2)),\n",
    "                (0.16586702410589216+0j) * reduce(kron, (Id2, Z, Z, Id2)),\n",
    "                (0.12054482205301814+0j) * reduce(kron, (Id2, Z, Id2, Z)),\n",
    "                (-0.22278593040418518+0j) * reduce(kron, (Id2, Id2, Z, Id2)),\n",
    "                (0.17434844185575699+0j) * reduce(kron, (Id2, Id2, Z, Z)),\n",
    "                (-0.2227859304041852+0j) * reduce(kron, (Id2, Id2, Id2, Z))]\n",
    "\n",
    "Hamiltonian = reduce(lambda m1, m2: m1 + m2, Hamiltonian)\n",
    "\n",
    "\n",
    "def constructUfromTheta(n_qubit, depth, theta_list):\n",
    "    gate_list = []\n",
    "\n",
    "    for d in range(depth):\n",
    "        for i in range(n_qubit):\n",
    "            gate_matrix = RZ(theta = theta_list[2 * i + 1 + 2 * n_qubit * d]) @ RY(theta = theta_list[2 * i + 2 * n_qubit * d])\n",
    "            gate = QuantumGate(n = n_qubit, free_bits_dict={i: gate_matrix}, target_bits_dict={}, controlled_bits_dict={})\n",
    "            gate_list.append(gate)\n",
    "\n",
    "        for i in range(n_qubit//2):\n",
    "            gate = QuantumGate(n = n_qubit, free_bits_dict={}, target_bits_dict={2*i+1: X}, controlled_bits_dict={2*i: 1})\n",
    "            gate_list.append(gate)\n",
    "\n",
    "        for i in range(n_qubit//2 - 1):\n",
    "            gate = QuantumGate(n = n_qubit, free_bits_dict={}, target_bits_dict={2*i+2: X}, controlled_bits_dict={2*i+1: 1})\n",
    "            gate_list.append(gate)\n",
    "\n",
    "    for i in range(n_qubit):\n",
    "        gate_matrix = RZ(theta = theta_list[2 * i + 1 + 2 * n_qubit * depth]) @ RY(theta = theta_list[2 * i + 2 * n_qubit * depth])\n",
    "        gate_list.append(gate)\n",
    "    \n",
    "    circuit = reduce(lambda m1, m2: m1 @ m2, map(lambda m1: m1.matrix_rep, reversed(gate_list)))\n",
    "\n",
    "    return circuit\n",
    "\n",
    "\n",
    "\n",
    "def H_Exp(Hamiltonian: array, n_qubit: int, depth: int, theta_list: array, in_state: array):\n",
    "    \n",
    "\n",
    "    circuit = constructUfromTheta(n_qubit = n_qubit, depth = depth, theta_list=theta_list)\n",
    "    \n",
    "    out_state = circuit @ in_state\n",
    "    \n",
    "    H_exptation = out_state.conjugate().T @ Hamiltonian @ out_state\n",
    "\n",
    "    return H_exptation[0, 0].real\n",
    "\n",
    "\n",
    "in_state_0 = generate_basis(4)[0].matrix_rep\n",
    "\n"
   ]
  },
  {
   "cell_type": "code",
   "execution_count": 7,
   "metadata": {},
   "outputs": [],
   "source": [
    "from scipy.optimize import minimize\n",
    "\n",
    "\n",
    "\n",
    "def cost(theta_list):\n",
    "    \n",
    "    global N_call\n",
    "    \n",
    "    res = H_Exp(Hamiltonian=Hamiltonian, n_qubit = n_qubit, depth = depth, theta_list=theta_list, in_state=in_state_0)\n",
    "    \n",
    "    if N_call % 100 == 0:\n",
    "        print(f'N_call: {N_call}, cost: {res:.6f}')\n",
    "\n",
    "\n",
    "    N_call += 1\n",
    "\n",
    "    return res\n"
   ]
  },
  {
   "cell_type": "code",
   "execution_count": 10,
   "metadata": {},
   "outputs": [
    {
     "name": "stdout",
     "output_type": "stream",
     "text": [
      "N_call: 0, cost: 0.695830\n",
      "N_call: 100, cost: 0.474757\n",
      "N_call: 200, cost: -0.302020\n",
      "N_call: 300, cost: -0.224017\n",
      "N_call: 400, cost: -0.070403\n",
      "N_call: 500, cost: -0.355273\n",
      "N_call: 600, cost: -0.490259\n",
      "N_call: 700, cost: -0.549362\n",
      "N_call: 800, cost: -0.669657\n",
      "N_call: 900, cost: -0.833000\n",
      "N_call: 1000, cost: -1.010114\n",
      "N_call: 1100, cost: -1.098695\n",
      "N_call: 1200, cost: -1.113241\n",
      "N_call: 1300, cost: -1.115227\n",
      "N_call: 1400, cost: -1.115709\n",
      "N_call: 1500, cost: -1.116182\n",
      "N_call: 1600, cost: -1.116600\n",
      "N_call: 1700, cost: -1.116649\n",
      "N_call: 1800, cost: -1.116671\n",
      "N_call: 1900, cost: -1.116674\n",
      "N_call: 2000, cost: -1.116677\n",
      "N_call: 2100, cost: -1.116682\n",
      "N_call: 2200, cost: -1.116683\n",
      "N_call: 2300, cost: -1.116683\n",
      "N_call: 2400, cost: -1.116683\n",
      "Warning: Maximum number of iterations has been exceeded.\n",
      "         Current function value: -1.116683\n",
      "         Iterations: 50\n",
      "         Function evaluations: 2419\n",
      "         Gradient evaluations: 59\n"
     ]
    }
   ],
   "source": [
    "cost_history = []\n",
    "options = {\"disp\": True, \"maxiter\": 50, \"gtol\": 1e-6}\n",
    "N_call = 0\n",
    "res = minimize(fun = cost, x0 = theta_list, method = \"BFGS\", callback = lambda x: cost_history.append(cost(x)), options=options)"
   ]
  },
  {
   "cell_type": "code",
   "execution_count": 51,
   "metadata": {},
   "outputs": [
    {
     "data": {
      "text/plain": [
       "(-1.137270174660903+0j)"
      ]
     },
     "execution_count": 51,
     "metadata": {},
     "output_type": "execute_result"
    }
   ],
   "source": [
    "from numpy.linalg import eigvals\n",
    "sorted(eigvals(Hamiltonian))[0]"
   ]
  },
  {
   "cell_type": "code",
   "execution_count": null,
   "metadata": {},
   "outputs": [],
   "source": []
  },
  {
   "cell_type": "code",
   "execution_count": 14,
   "metadata": {},
   "outputs": [
    {
     "data": {
      "image/png": "[encoded data removed]",
      "text/plain": [
       "<Figure size 432x288 with 1 Axes>"
      ]
     },
     "metadata": {
      "needs_background": "light"
     },
     "output_type": "display_data"
    }
   ],
   "source": [
    "import matplotlib.pyplot as plt\n",
    "plt.rcParams[\"font.size\"] = 18\n",
    "plt.plot(cost_history, color=\"red\", label=\"VQE\")\n",
    "plt.xlabel(\"Iteration\")\n",
    "plt.ylabel(\"Energy expectation value\")\n",
    "plt.legend()\n",
    "plt.show()"
   ]
  },
  {
   "cell_type": "code",
   "execution_count": 15,
   "metadata": {},
   "outputs": [],
   "source": [
    "CNOT = QuantumGate(n = 2, free_bits_dict={}, target_bits_dict={1: X}, controlled_bits_dict={0: 1})"
   ]
  },
  {
   "cell_type": "code",
   "execution_count": 16,
   "metadata": {},
   "outputs": [
    {
     "data": {
      "text/plain": [
       "array([[1., 0., 0., 0.],\n",
       "       [0., 1., 0., 0.],\n",
       "       [0., 0., 0., 1.],\n",
       "       [0., 0., 1., 0.]])"
      ]
     },
     "execution_count": 16,
     "metadata": {},
     "output_type": "execute_result"
    }
   ],
   "source": [
    "CNOT.matrix_rep"
   ]
  },
  {
   "cell_type": "code",
   "execution_count": 17,
   "metadata": {},
   "outputs": [
    {
     "data": {
      "text/plain": [
       "[True, True, True, True, True, True]"
      ]
     },
     "execution_count": 17,
     "metadata": {},
     "output_type": "execute_result"
    }
   ],
   "source": [
    "[\n",
    "    (CNOT.matrix_rep @ kron(X, Id2) @ CNOT.matrix_rep == kron(X, Id2) @ kron(Id2, X)).all(),\n",
    "    (CNOT.matrix_rep @ kron(Y, Id2) @ CNOT.matrix_rep == kron(Y, Id2) @ kron(Id2, X)).all(),\n",
    "    (CNOT.matrix_rep @ kron(Z, Id2) @ CNOT.matrix_rep == kron(Z, Id2)).all(),\n",
    "    (CNOT.matrix_rep @ kron(Id2, X) @ CNOT.matrix_rep == kron(Id2, X)).all(),\n",
    "    (CNOT.matrix_rep @ kron(Id2, Y) @ CNOT.matrix_rep == kron(Z, Id2) @ kron(Id2, Y)).all(),\n",
    "    (CNOT.matrix_rep @ kron(Id2, Z) @ CNOT.matrix_rep == kron(Z, Id2) @ kron(Id2, Z)).all(),\n",
    "]"
   ]
  },
  {
   "cell_type": "code",
   "execution_count": 18,
   "metadata": {},
   "outputs": [],
   "source": [
    "Toffoli_c0c1_t2 = QuantumGate(n = 3, free_bits_dict={}, target_bits_dict={2: X}, controlled_bits_dict={0: 1, 1: 1})\n",
    "Toffoli_c0c2_t1 = QuantumGate(n = 3, free_bits_dict={}, target_bits_dict={1: X}, controlled_bits_dict={0: 1, 2: 1})\n",
    "Toffoli_c1c2_t0 = QuantumGate(n = 3, free_bits_dict={}, target_bits_dict={0: X}, controlled_bits_dict={1: 1, 2: 1})"
   ]
  },
  {
   "cell_type": "code",
   "execution_count": 25,
   "metadata": {},
   "outputs": [
    {
     "name": "stdout",
     "output_type": "stream",
     "text": [
      "[False, False, False, True, False, False, False, False, False, False, True, False, False, False, False, False, False, False, False, False, False, False, False, False, False, False, False]\n"
     ]
    }
   ],
   "source": [
    "Fredkin = array([[1, 0, 0, 0, 0, 0, 0, 0], \n",
    "                 [0, 1, 0, 0, 0, 0, 0, 0], \n",
    "                 [0, 0, 1, 0, 0, 0, 0, 0],\n",
    "                 [0, 0, 0, 1, 0, 0, 0, 0],\n",
    "                 [0, 0, 0, 0, 1, 0, 0, 0],\n",
    "                 [0, 0, 0, 0, 0, 0, 1, 0],\n",
    "                 [0, 0, 0, 0, 0, 1, 0, 0],\n",
    "                 [0, 0, 0, 0, 0, 0, 0, 1]])\n",
    "                  \n",
    "all_combo = list(itertools.product(*[[\n",
    "                                      Toffoli_c0c1_t2.matrix_rep, \n",
    "                                      Toffoli_c0c2_t1.matrix_rep, \n",
    "                                      Toffoli_c1c2_t0.matrix_rep]\n",
    "                                    ] * 3))\n",
    "                                    \n",
    "eval_combo = list(map(lambda comb: (reduce(lambda m1, m2: m1 @ m2, comb) == Fredkin).all(), all_combo))\n",
    "print(eval_combo)"
   ]
  },
  {
   "cell_type": "code",
   "execution_count": 27,
   "metadata": {},
   "outputs": [
    {
     "data": {
      "text/plain": [
       "[True, True]"
      ]
     },
     "execution_count": 27,
     "metadata": {},
     "output_type": "execute_result"
    }
   ],
   "source": [
    "[\n",
    "    (Toffoli_c0c1_t2.matrix_rep @ Toffoli_c0c2_t1.matrix_rep @ Toffoli_c0c1_t2.matrix_rep == Fredkin).all(),\n",
    "    (Toffoli_c0c2_t1.matrix_rep @ Toffoli_c0c1_t2.matrix_rep @ Toffoli_c0c2_t1.matrix_rep == Fredkin).all()\n",
    "]"
   ]
  },
  {
   "cell_type": "code",
   "execution_count": 28,
   "metadata": {},
   "outputs": [],
   "source": [
    "G1 = QuantumGate(n = 3, free_bits_dict={0: H}, target_bits_dict={}, controlled_bits_dict={})\n",
    "G2 = QuantumGate(n = 3, free_bits_dict={}, target_bits_dict={0: S}, controlled_bits_dict={1: 1})\n",
    "G3 = QuantumGate(n = 3, free_bits_dict={}, target_bits_dict={0: T}, controlled_bits_dict={2: 1})\n",
    "G4 = QuantumGate(n = 3, free_bits_dict={1: H}, target_bits_dict={}, controlled_bits_dict={})\n",
    "G5 = QuantumGate(n = 3, free_bits_dict={}, target_bits_dict={1: S}, controlled_bits_dict={2: 1})\n",
    "G6 = QuantumGate(n = 3, free_bits_dict={2: H}, target_bits_dict={}, controlled_bits_dict={})\n"
   ]
  },
  {
   "cell_type": "code",
   "execution_count": 29,
   "metadata": {},
   "outputs": [],
   "source": [
    "circuit = [G1, G2, G3, G4, G5, G6]\n",
    "circuit = map(lambda gate: gate.matrix_rep, reversed(circuit))\n",
    "swap = reduce(lambda m1, m2: m1 + m2, [(BasisKet(s1, s2, s3).matrix_rep @ BasisKet(s3, s2, s1).matrix_rep.T) for s1 in range(2) for s2 in range(2) for s3 in range(2)])\n",
    "FT = sqrt(8) * swap @ reduce(lambda g1, g2: g1 @ g2, circuit)"
   ]
  },
  {
   "cell_type": "code",
   "execution_count": 108,
   "metadata": {},
   "outputs": [
    {
     "data": {
      "text/latex": [
       "$\\displaystyle \\left[\\begin{matrix}1 & 1 & 1 & 1 & 1 & 1 & 1 & 1\\\\1 & e^{\\frac{i \\pi}{4}} & i & i e^{\\frac{i \\pi}{4}} & -1 & - e^{\\frac{i \\pi}{4}} & - i & - i e^{\\frac{i \\pi}{4}}\\\\1 & i & -1 & - i & 1 & i & -1 & - i\\\\1 & i e^{\\frac{i \\pi}{4}} & - i & e^{\\frac{i \\pi}{4}} & -1 & - i e^{\\frac{i \\pi}{4}} & i & - e^{\\frac{i \\pi}{4}}\\\\1 & -1 & 1 & -1 & 1 & -1 & 1 & -1\\\\1 & - e^{\\frac{i \\pi}{4}} & i & - i e^{\\frac{i \\pi}{4}} & -1 & e^{\\frac{i \\pi}{4}} & - i & i e^{\\frac{i \\pi}{4}}\\\\1 & - i & -1 & i & 1 & - i & -1 & i\\\\1 & - i e^{\\frac{i \\pi}{4}} & - i & - e^{\\frac{i \\pi}{4}} & -1 & i e^{\\frac{i \\pi}{4}} & i & e^{\\frac{i \\pi}{4}}\\end{matrix}\\right]$"
      ],
      "text/plain": [
       "Matrix([\n",
       "[1,              1,  1,              1,  1,              1,  1,              1],\n",
       "[1,    exp(I*pi/4),  I,  I*exp(I*pi/4), -1,   -exp(I*pi/4), -I, -I*exp(I*pi/4)],\n",
       "[1,              I, -1,             -I,  1,              I, -1,             -I],\n",
       "[1,  I*exp(I*pi/4), -I,    exp(I*pi/4), -1, -I*exp(I*pi/4),  I,   -exp(I*pi/4)],\n",
       "[1,             -1,  1,             -1,  1,             -1,  1,             -1],\n",
       "[1,   -exp(I*pi/4),  I, -I*exp(I*pi/4), -1,    exp(I*pi/4), -I,  I*exp(I*pi/4)],\n",
       "[1,             -I, -1,              I,  1,             -I, -1,              I],\n",
       "[1, -I*exp(I*pi/4), -I,   -exp(I*pi/4), -1,  I*exp(I*pi/4),  I,    exp(I*pi/4)]])"
      ]
     },
     "execution_count": 108,
     "metadata": {},
     "output_type": "execute_result"
    }
   ],
   "source": [
    "FT"
   ]
  },
  {
   "cell_type": "code",
   "execution_count": 40,
   "metadata": {},
   "outputs": [
    {
     "data": {
      "text/plain": [
       "True"
      ]
     },
     "execution_count": 40,
     "metadata": {},
     "output_type": "execute_result"
    }
   ],
   "source": [
    "omega = exp(I * pi / 4)\n",
    "FT_res = [[1, 1, 1, 1, 1, 1, 1, 1]]\n",
    "FT_res += ([[omega**p for p in range(0, i * 8, i)] for i in range(1, 8)])\n",
    "FT_res = array(FT_res)\n",
    "((FT_res - FT).round(10) == 0).all()"
   ]
  },
  {
   "cell_type": "code",
   "execution_count": 117,
   "metadata": {},
   "outputs": [
    {
     "data": {
      "text/latex": [
       "$\\displaystyle \\left[\\begin{matrix}0 & 0 & 0 & 0 & 0 & 0 & 0 & 0\\\\0 & 0 & 0 & - i e^{\\frac{i \\pi}{4}} + e^{\\frac{3 i \\pi}{4}} & 0 & e^{- \\frac{3 i \\pi}{4}} + e^{\\frac{i \\pi}{4}} & 0 & e^{- \\frac{i \\pi}{4}} + i e^{\\frac{i \\pi}{4}}\\\\0 & 0 & 0 & 0 & 0 & 0 & 0 & 0\\\\0 & - i e^{\\frac{i \\pi}{4}} + e^{\\frac{3 i \\pi}{4}} & 0 & 0 & 0 & e^{- \\frac{i \\pi}{4}} + i e^{\\frac{i \\pi}{4}} & 0 & e^{- \\frac{3 i \\pi}{4}} + e^{\\frac{i \\pi}{4}}\\\\0 & 0 & 0 & 0 & 0 & 0 & 0 & 0\\\\0 & e^{- \\frac{3 i \\pi}{4}} + e^{\\frac{i \\pi}{4}} & 0 & e^{- \\frac{i \\pi}{4}} + i e^{\\frac{i \\pi}{4}} & 0 & 0 & 0 & - i e^{\\frac{i \\pi}{4}} + e^{\\frac{3 i \\pi}{4}}\\\\0 & 0 & 0 & 0 & 0 & 0 & 0 & 0\\\\0 & e^{- \\frac{i \\pi}{4}} + i e^{\\frac{i \\pi}{4}} & 0 & e^{- \\frac{3 i \\pi}{4}} + e^{\\frac{i \\pi}{4}} & 0 & - i e^{\\frac{i \\pi}{4}} + e^{\\frac{3 i \\pi}{4}} & 0 & 0\\end{matrix}\\right]$"
      ],
      "text/plain": [
       "Matrix([\n",
       "[0,                              0, 0,                              0, 0,                              0, 0,                              0],\n",
       "[0,                              0, 0, -I*exp(I*pi/4) + exp(3*I*pi/4), 0,   exp(-3*I*pi/4) + exp(I*pi/4), 0,   exp(-I*pi/4) + I*exp(I*pi/4)],\n",
       "[0,                              0, 0,                              0, 0,                              0, 0,                              0],\n",
       "[0, -I*exp(I*pi/4) + exp(3*I*pi/4), 0,                              0, 0,   exp(-I*pi/4) + I*exp(I*pi/4), 0,   exp(-3*I*pi/4) + exp(I*pi/4)],\n",
       "[0,                              0, 0,                              0, 0,                              0, 0,                              0],\n",
       "[0,   exp(-3*I*pi/4) + exp(I*pi/4), 0,   exp(-I*pi/4) + I*exp(I*pi/4), 0,                              0, 0, -I*exp(I*pi/4) + exp(3*I*pi/4)],\n",
       "[0,                              0, 0,                              0, 0,                              0, 0,                              0],\n",
       "[0,   exp(-I*pi/4) + I*exp(I*pi/4), 0,   exp(-3*I*pi/4) + exp(I*pi/4), 0, -I*exp(I*pi/4) + exp(3*I*pi/4), 0,                              0]])"
      ]
     },
     "execution_count": 117,
     "metadata": {},
     "output_type": "execute_result"
    }
   ],
   "source": [
    "res = [[1, 1, 1, 1, 1, 1, 1, 1]]\n",
    "res += ([[omega**p for p in range(0, i * 8, i)] for i in range(1, 8)])\n",
    "xxx = (Matrix(res) - FT)\n",
    "xxx.expand().simplify()\n",
    "xxx"
   ]
  },
  {
   "cell_type": "code",
   "execution_count": null,
   "metadata": {},
   "outputs": [],
   "source": [
    "[\n",
    "    G2.matrix_rep @ BasisKet(0, 0, 0).mat_rep == BasisKet(0, 0, 0).mat_rep,\n",
    "    G2.matrix_rep @ BasisKet(0, 0, 1).mat_rep == BasisKet(0, 0, 1).mat_rep,\n",
    "    G2.matrix_rep @ BasisKet(0, 1, 0).mat_rep == BasisKet(1, 1, 0).mat_rep,\n",
    "    G2.matrix_rep @ BasisKet(0, 1, 1).mat_rep == BasisKet(1, 1, 1).mat_rep,\n",
    "    G2.matrix_rep @ BasisKet(1, 0, 0).mat_rep == BasisKet(1, 0, 0).mat_rep,\n",
    "    G2.matrix_rep @ BasisKet(1, 0, 1).mat_rep == BasisKet(1, 0, 1).mat_rep,\n",
    "    G2.matrix_rep @ BasisKet(1, 1, 0).mat_rep == BasisKet(0, 1, 0).mat_rep,\n",
    "    G2.matrix_rep @ BasisKet(1, 1, 1).mat_rep == BasisKet(0, 1, 1).mat_rep\n",
    "]"
   ]
  },
  {
   "cell_type": "code",
   "execution_count": 133,
   "metadata": {},
   "outputs": [],
   "source": [
    "gate1 = Matrix([[-0.67489437-0.19333626j,  0.01369761+0.51069095j,\n",
    "        -0.0538364 +0.1910893j ,  0.26903777-0.36653923j],\n",
    "       [-0.15964767-0.24443965j,  0.28761193+0.17608957j,\n",
    "         0.58048328-0.61476781j,  0.02603706+0.29232772j],\n",
    "       [ 0.21988489+0.5083526j , -0.00834225+0.23620171j,\n",
    "         0.17221235+0.1066575j ,  0.73789387+0.2276997j ],\n",
    "       [ 0.31749424-0.11969226j,  0.47033546+0.59008701j,\n",
    "        -0.44913661+0.05412586j, -0.18426636+0.27721047j]])\n",
    "\n",
    "gate1 = KroneckerProduct(Matrix([[1, 0], [0, 1]]), gate1).doit()\n",
    "\n",
    "gate2 = Matrix([[-0.02223484-0.49755107j, -0.16501758+0.69058564j,\n",
    "         0.28269745+0.32312689j, -0.22078685-0.12138184j],\n",
    "       [-0.24129921-0.53604091j, -0.29697445-0.33340441j,\n",
    "         0.38357938-0.31680305j,  0.45470737-0.02874727j],\n",
    "       [-0.03287279-0.05705016j,  0.45635124-0.10193227j,\n",
    "        -0.02386618+0.36798023j,  0.37023959-0.70990255j],\n",
    "       [-0.60184508+0.1995759j , -0.22068798-0.17075866j,\n",
    "         0.03491663+0.65648735j,  0.09229852+0.28173822j]])\n",
    "\n",
    "gate2 = KroneckerProduct( gate2, Matrix([[1, 0], [0, 1]])).doit()"
   ]
  },
  {
   "cell_type": "code",
   "execution_count": null,
   "metadata": {},
   "outputs": [],
   "source": []
  }
 ],
 "metadata": {
  "kernelspec": {
   "display_name": "Python 3.9.10 64-bit",
   "language": "python",
   "name": "python3"
  },
  "language_info": {
   "codemirror_mode": {
    "name": "ipython",
    "version": 3
   },
   "file_extension": ".py",
   "mimetype": "text/x-python",
   "name": "python",
   "nbconvert_exporter": "python",
   "pygments_lexer": "ipython3",
   "version": "3.9.10"
  },
  "orig_nbformat": 4,
  "vscode": {
   "interpreter": {
    "hash": "aee8b7b246df8f9039afb4144a1f6fd8d2ca17a180786b69acc140d282b71a49"
   }
  }
 },
 "nbformat": 4,
 "nbformat_minor": 2
}
