{
 "cells": [
  {
   "cell_type": "code",
   "execution_count": 1,
   "metadata": {},
   "outputs": [
    {
     "name": "stderr",
     "output_type": "stream",
     "text": [
      "/Users/daniel/opt/anaconda3/lib/python3.9/site-packages/pyscf/lib/misc.py:46: H5pyDeprecationWarning: Using default_file_mode other than 'r' is deprecated. Pass the mode to h5py.File() instead.\n",
      "  h5py.get_config().default_file_mode = 'a'\n"
     ]
    }
   ],
   "source": [
    "import openfermion\n",
    "import pyscf\n",
    "from openfermionpyscf import run_pyscf"
   ]
  },
  {
   "cell_type": "code",
   "execution_count": 16,
   "metadata": {},
   "outputs": [
    {
     "data": {
      "text/plain": [
       "[(('a', 0), ('a', 0), ('a', 0), ('a', 0)),\n",
       " (('a', 0), ('a', 0), ('a', 0), ('b', 1)),\n",
       " (('a', 0), ('a', 0), ('b', 1), ('a', 0)),\n",
       " (('a', 0), ('a', 0), ('b', 1), ('b', 1)),\n",
       " (('a', 0), ('b', 1), ('a', 0), ('a', 0)),\n",
       " (('a', 0), ('b', 1), ('a', 0), ('b', 1)),\n",
       " (('a', 0), ('b', 1), ('b', 1), ('a', 0)),\n",
       " (('a', 0), ('b', 1), ('b', 1), ('b', 1)),\n",
       " (('b', 1), ('a', 0), ('a', 0), ('a', 0)),\n",
       " (('b', 1), ('a', 0), ('a', 0), ('b', 1)),\n",
       " (('b', 1), ('a', 0), ('b', 1), ('a', 0)),\n",
       " (('b', 1), ('a', 0), ('b', 1), ('b', 1)),\n",
       " (('b', 1), ('b', 1), ('a', 0), ('a', 0)),\n",
       " (('b', 1), ('b', 1), ('a', 0), ('b', 1)),\n",
       " (('b', 1), ('b', 1), ('b', 1), ('a', 0)),\n",
       " (('b', 1), ('b', 1), ('b', 1), ('b', 1))]"
      ]
     },
     "execution_count": 16,
     "metadata": {},
     "output_type": "execute_result"
    }
   ],
   "source": [
    "from itertools import product\n",
    "\n",
    "list(product({'a': 0, 'b': 1}.items(), {'a': 0, 'b': 1}.items(), {'a': 0, 'b': 1}.items(), {'a': 0, 'b': 1}.items()))"
   ]
  },
  {
   "cell_type": "code",
   "execution_count": 4,
   "metadata": {},
   "outputs": [],
   "source": [
    "from openfermion import MolecularData\n",
    "geometry = [['H', [0, 0, 0]], ['H', [0, 0, 0.74]]]\n",
    "basis = 'sto-3g'\n",
    "spin = 0\n",
    "charge = 0\n",
    "multiplicity = 2 * spin + 1\n",
    "h2_molecule = MolecularData(\n",
    "                                geometry = geometry,\n",
    "                                basis = basis,\n",
    "                                multiplicity = multiplicity,\n",
    "                                charge = charge\n",
    "                            )"
   ]
  },
  {
   "cell_type": "code",
   "execution_count": 8,
   "metadata": {},
   "outputs": [],
   "source": [
    "h2_molecule_run = run_pyscf(\n",
    "                            molecule = h2_molecule, \n",
    "                            run_mp2 = True,\n",
    "                            run_cisd = True,\n",
    "                            run_ccsd = True,\n",
    "                            run_fci = True\n",
    "                        )\n",
    "\n",
    "h2_filename = h2_molecule_run.filename\n",
    "h2_molecule_run.save()"
   ]
  },
  {
   "cell_type": "code",
   "execution_count": 31,
   "metadata": {},
   "outputs": [
    {
     "name": "stdout",
     "output_type": "stream",
     "text": [
      "a\n",
      "b\n"
     ]
    }
   ],
   "source": [
    "x = 'a' + '\\n' + 'b'\n",
    "print(x)"
   ]
  },
  {
   "cell_type": "code",
   "execution_count": 41,
   "metadata": {},
   "outputs": [
    {
     "data": {
      "text/plain": [
       "array([[ 1.00000000e+00, -2.87964097e-16],\n",
       "       [-4.44089210e-16,  1.00000000e+00]])"
      ]
     },
     "execution_count": 41,
     "metadata": {},
     "output_type": "execute_result"
    }
   ],
   "source": [
    "from numpy.random import random, rand\n",
    "from numpy import array, sqrt, argmin, copy\n",
    "from numpy.linalg import eig, eigvals, norm, inv\n",
    "\n",
    "XXX = array([[1, 3], [3, 16]])\n",
    "lam, U = eig(XXX)\n",
    "X = U/(sqrt(lam))\n",
    "X.T @ XXX @ (X)"
   ]
  },
  {
   "cell_type": "code",
   "execution_count": 17,
   "metadata": {},
   "outputs": [
    {
     "name": "stdout",
     "output_type": "stream",
     "text": [
      "{'c': 7, 'a': 1, 'b': 5, 'd': 5}\n"
     ]
    },
    {
     "data": {
      "text/plain": [
       "87"
      ]
     },
     "execution_count": 17,
     "metadata": {},
     "output_type": "execute_result"
    }
   ],
   "source": [
    "A = {'a':1, 'b':2, 'c':3}\n",
    "B = {'b':3, 'c':4, 'd':5}\n",
    "c = {x: A.get(x, 0) + B.get(x, 0) for x in set(A).union(B)}\n",
    "print(c)\n",
    "\n",
    "A.get('z', 87)"
   ]
  },
  {
   "cell_type": "code",
   "execution_count": 21,
   "metadata": {},
   "outputs": [
    {
     "data": {
      "text/plain": [
       "True"
      ]
     },
     "execution_count": 21,
     "metadata": {},
     "output_type": "execute_result"
    }
   ],
   "source": [
    "-0.5j + 0.5j == 0"
   ]
  },
  {
   "cell_type": "code",
   "execution_count": 26,
   "metadata": {},
   "outputs": [
    {
     "data": {
      "text/plain": [
       "1"
      ]
     },
     "execution_count": 26,
     "metadata": {},
     "output_type": "execute_result"
    }
   ],
   "source": [
    "xxx = {1}\n",
    "list(xxx)[0]"
   ]
  },
  {
   "cell_type": "code",
   "execution_count": 22,
   "metadata": {},
   "outputs": [
    {
     "data": {
      "text/plain": [
       "(1, 2, 3, 4)"
      ]
     },
     "execution_count": 22,
     "metadata": {},
     "output_type": "execute_result"
    }
   ],
   "source": [
    "(1, 2) + (3, 4)"
   ]
  },
  {
   "cell_type": "code",
   "execution_count": 40,
   "metadata": {},
   "outputs": [
    {
     "data": {
      "text/plain": [
       "0"
      ]
     },
     "execution_count": 40,
     "metadata": {},
     "output_type": "execute_result"
    }
   ],
   "source": [
    "argmin([[1, 3], [3, 16]], )"
   ]
  },
  {
   "cell_type": "code",
   "execution_count": 5,
   "metadata": {},
   "outputs": [
    {
     "name": "stdout",
     "output_type": "stream",
     "text": [
      "3\n"
     ]
    },
    {
     "data": {
      "text/plain": [
       "<__main__.aaa at 0x7f97a9bfb400>"
      ]
     },
     "execution_count": 5,
     "metadata": {},
     "output_type": "execute_result"
    }
   ],
   "source": [
    "class aaa:\n",
    "    def __init__(self, *a):\n",
    "        print(len(a))\n",
    "\n",
    "aaa(1,2,3)"
   ]
  },
  {
   "cell_type": "code",
   "execution_count": 38,
   "metadata": {},
   "outputs": [
    {
     "data": {
      "text/plain": [
       "array([[[[0., 0.],\n",
       "         [0., 0.]],\n",
       "\n",
       "        [[0., 0.],\n",
       "         [0., 0.]]],\n",
       "\n",
       "\n",
       "       [[[0., 0.],\n",
       "         [0., 0.]],\n",
       "\n",
       "        [[0., 0.],\n",
       "         [0., 0.]]]])"
      ]
     },
     "execution_count": 38,
     "metadata": {},
     "output_type": "execute_result"
    }
   ],
   "source": [
    "from numpy import zeros\n",
    "zeros((2, 2, 2, 2))"
   ]
  },
  {
   "cell_type": "code",
   "execution_count": null,
   "metadata": {},
   "outputs": [],
   "source": []
  }
 ],
 "metadata": {
  "kernelspec": {
   "display_name": "Python 3.9.7 ('base')",
   "language": "python",
   "name": "python3"
  },
  "language_info": {
   "codemirror_mode": {
    "name": "ipython",
    "version": 3
   },
   "file_extension": ".py",
   "mimetype": "text/x-python",
   "name": "python",
   "nbconvert_exporter": "python",
   "pygments_lexer": "ipython3",
   "version": "3.9.7"
  },
  "orig_nbformat": 4,
  "vscode": {
   "interpreter": {
    "hash": "5637242735df105300a10f363d5c0d18b4b77d7105ef62addc8c3980e22cd89c"
   }
  }
 },
 "nbformat": 4,
 "nbformat_minor": 2
}
