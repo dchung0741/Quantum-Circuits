{
 "cells": [
  {
   "cell_type": "code",
   "execution_count": 248,
   "metadata": {},
   "outputs": [],
   "source": [
    "import qulacs\n",
    "from functools import reduce\n",
    "from sympy import Matrix, KroneckerProduct, I, pi, exp, sqrt\n",
    "import itertools\n",
    "import sympy as sp\n",
    "import numpy as np\n",
    "from typing import List, Dict, Tuple"
   ]
  },
  {
   "cell_type": "code",
   "execution_count": 256,
   "metadata": {},
   "outputs": [],
   "source": [
    "bit_map = {0: Matrix((1, 0)), 1: Matrix((0, 1))}\n",
    "\n",
    "X = Matrix([[0, 1], [1, 0]])\n",
    "Y = Matrix([[0, -I], [I, 0]])\n",
    "Z = Matrix([[1, 0], [0, -1]])\n",
    "\n",
    "H = (X + Z)/sqrt(2)\n",
    "T = Matrix([[1, 0], [0, exp(I * pi/4)]])\n",
    "S = Matrix([[1, 0], [0, I]])\n",
    "Id2 = sp.eye(2)"
   ]
  },
  {
   "cell_type": "code",
   "execution_count": 79,
   "metadata": {},
   "outputs": [],
   "source": [
    "class BasisKet:\n",
    "\n",
    "    def __init__(self, *label) -> None:\n",
    "        self.dim = len(label)\n",
    "        self.label = label\n",
    "        self.tensor_rep = self.get_mat_rep(doit=False)\n",
    "        self.mat_rep = self.get_mat_rep(doit=True)\n",
    "        \n",
    "    \n",
    "    def get_mat_rep(self, doit = True) -> Matrix:\n",
    "        ket_mat = [bit_map[bit] for bit in self.label]\n",
    "        if doit:\n",
    "            return reduce(KroneckerProduct, ket_mat).doit()\n",
    "        else:\n",
    "            return reduce(KroneckerProduct, ket_mat)\n",
    "\n",
    "    \n",
    "    @property\n",
    "    def T(self):\n",
    "        return self.mat_rep.T\n",
    "\n",
    "    def __eq__(self, other):\n",
    "        if isinstance(other, BasisKet):\n",
    "            return self.label == other.label\n",
    "\n",
    "    def __hash__(self) -> int:\n",
    "        return hash(self.label)\n",
    "\n",
    "    def __repr__(self) -> str:\n",
    "        return self.mat_rep.__repr__()\n",
    "    \n",
    "    def __str__(self) -> str:\n",
    "        return self.mat_rep.__str__()"
   ]
  },
  {
   "cell_type": "code",
   "execution_count": 102,
   "metadata": {},
   "outputs": [],
   "source": [
    "def generate_basis(dim: int) -> List[BasisKet]:\n",
    "\n",
    "    basis_kets = [[0, 1]] * dim\n",
    "    basis_kets = map(lambda lab: BasisKet(*lab), itertools.product(*basis_kets))\n",
    "    basis_kets = list(basis_kets)\n",
    "\n",
    "    return basis_kets"
   ]
  },
  {
   "cell_type": "code",
   "execution_count": 222,
   "metadata": {},
   "outputs": [],
   "source": [
    "class ControlledOperator_v1:\n",
    "\n",
    "    def __init__(self, n: int, controlled_bit_label: tuple, target_bit_pos: int, operatorU: Matrix, condition_on = 1) -> None:\n",
    "\n",
    "        \"\"\"\n",
    "        n: total number of channels\n",
    "        controlled_bit_label: label of bits that are used as controlled bits. Label of bit starts from 1\n",
    "        condition_on: activate the gate  \n",
    "        \"\"\"\n",
    "        \n",
    "        self.n = n\n",
    "        self.tar_pos = target_bit_pos\n",
    "        self.operatorU = operatorU\n",
    "        self.condition_on = condition_on\n",
    "        self.mat_rep = self.get_mat_rep()\n",
    "\n",
    "    def get_mat_rep(self):\n",
    " \n",
    "        # C(U)|x1, ..., x_i, ..., x_n > = |x1, ..., U(x_i), ..., x_n > if x1 = ... = x{i-1} = x{i+1} = ... = x_n = 1\n",
    "        basis_kets = generate_basis(self.n)\n",
    "        \n",
    "        def eval_mat_el(i, j):\n",
    "            \n",
    "            in_state = basis_kets[j]\n",
    "            in_state_label = in_state.label\n",
    "\n",
    "            opp = int(not self.condition_on)\n",
    "\n",
    "            if opp in in_state_label[:self.tar_pos - 1] + in_state_label[self.tar_pos:]:\n",
    "                out_state = in_state.mat_rep\n",
    "            else:\n",
    "                operator = [sp.eye(2) for _ in range(self.tar_pos-1)] + [self.operatorU] + [sp.eye(2) for _ in range(self.n - self.tar_pos)]\n",
    "                operator = reduce(KroneckerProduct, operator).doit()\n",
    "                out_state = operator @ in_state.mat_rep\n",
    "\n",
    "            \n",
    "            out_proj = basis_kets[i]\n",
    "            res = out_proj.mat_rep.T @ out_state\n",
    "            \n",
    "            return res\n",
    "\n",
    "        matrix = [ [eval_mat_el(i, j) for i in range(2**self.n)] for j in range(2**self.n) ]\n",
    "        \n",
    "        return Matrix(matrix)"
   ]
  },
  {
   "cell_type": "code",
   "execution_count": 279,
   "metadata": {},
   "outputs": [],
   "source": [
    "class ControlledOperator:\n",
    "\n",
    "    def __init__(self, n: int, target_bits_dict: Dict[int, Matrix], controlled_bits_dict: Dict[int, int]) -> None:\n",
    "\n",
    "        \"\"\"\n",
    "        channel label starts from 0\n",
    "        n: total number of channels\n",
    "        target_bits_dict: {channel label: gate operator}. If it is free, gate operator = Id2.\n",
    "        controlled_bits_dict: {channel label: activate_on 0 or 1}\n",
    "        \"\"\"\n",
    "        \n",
    "        self.n = n\n",
    "        self.basis_kets = generate_basis(self.n)\n",
    "\n",
    "        self.target_bits_dict = target_bits_dict\n",
    "        self.target_bits_idx = self.target_bits_dict.keys()\n",
    "        \n",
    "        self.controlled_bits_dict = controlled_bits_dict\n",
    "        self.controlled_bits_idx = self.controlled_bits_dict.keys()\n",
    "        self.controlled_bits_val = self.controlled_bits_dict.values()\n",
    "\n",
    "        self.matrix_rep = self.compute_matrix_rep()\n",
    "        \n",
    "\n",
    "    def compute_matrix_rep(self) -> Matrix:\n",
    "\n",
    "        def matrix_el(i, j):\n",
    "            \n",
    "            out_proj = self.basis_kets[i].mat_rep.T\n",
    "            in_state = self.basis_kets[j]\n",
    "\n",
    "            in_state_control_bit = tuple([in_state.label[i] for i in self.controlled_bits_idx])\n",
    "\n",
    "            if in_state_control_bit != tuple(self.controlled_bits_val):\n",
    "                out_state = in_state.mat_rep\n",
    "            else:\n",
    "                operator = [ self.target_bits_dict[i] if i in self.target_bits_dict else Id2 for i in range(self.n)]\n",
    "                operator = reduce(KroneckerProduct, operator).doit()\n",
    "                out_state = operator @ in_state.mat_rep\n",
    "            \n",
    "            return out_proj @ out_state\n",
    "            \n",
    "\n",
    "        matrix = Matrix([[matrix_el(i, j) for j in range(2**self.n)] for i in range(2**self.n)])\n",
    "\n",
    "        return matrix\n",
    "        "
   ]
  },
  {
   "cell_type": "code",
   "execution_count": 271,
   "metadata": {},
   "outputs": [],
   "source": [
    "# CNOT = ControlledOperator_v1(controlled_bit_label = (1, 1), target_bit_pos = 2, operatorU = X, condition_on=0)\n",
    "# Toffoli = ControlledOperator_v1(controlled_bit_label = (1, 1, 1), target_bit_pos = 1, operatorU = X, condition_on=1)\n",
    "# CZ = ControlledOperator_v1(controlled_bit_label = (1, 1), target_bit_pos = 2, operatorU = Z, condition_on=1)"
   ]
  },
  {
   "cell_type": "code",
   "execution_count": 304,
   "metadata": {},
   "outputs": [],
   "source": [
    "CNOT = ControlledOperator(n = 2, target_bits_dict = {1: X}, controlled_bits_dict = {0: 1})\n",
    "\n",
    "Toffoli_01 = ControlledOperator(n = 3, target_bits_dict = {2: X}, controlled_bits_dict = {0: 1, 1: 1})\n",
    "Toffoli_02 = ControlledOperator(n = 3, target_bits_dict = {1: X}, controlled_bits_dict = {0: 1, 2: 1})\n",
    "Toffoli_12 = ControlledOperator(n = 3, target_bits_dict = {0: X}, controlled_bits_dict = {1: 1, 2: 1})\n",
    "\n",
    "CNOT_c0_t1 = ControlledOperator(n = 3, target_bits_dict = {1: X}, controlled_bits_dict = {0: 1})\n",
    "CNOT_c0_t2 = ControlledOperator(n = 3, target_bits_dict = {2: X}, controlled_bits_dict = {0: 1})\n",
    "CNOT_c1_t0 = ControlledOperator(n = 3, target_bits_dict = {0: X}, controlled_bits_dict = {1: 1})\n",
    "CNOT_c1_t2 = ControlledOperator(n = 3, target_bits_dict = {2: X}, controlled_bits_dict = {1: 1})\n",
    "CNOT_c2_t0 = ControlledOperator(n = 3, target_bits_dict = {0: X}, controlled_bits_dict = {2: 1})\n",
    "CNOT_c2_t1 = ControlledOperator(n = 3, target_bits_dict = {1: X}, controlled_bits_dict = {2: 1})"
   ]
  },
  {
   "cell_type": "code",
   "execution_count": 335,
   "metadata": {},
   "outputs": [
    {
     "data": {
      "text/latex": [
       "$\\displaystyle \\left[\\begin{matrix}1 & 0 & 0 & 0 & 0 & 0 & 0 & 0\\\\0 & 1 & 0 & 0 & 0 & 0 & 0 & 0\\\\0 & 0 & 1 & 0 & 0 & 0 & 0 & 0\\\\0 & 0 & 0 & 1 & 0 & 0 & 0 & 0\\\\0 & 0 & 0 & 0 & 0 & 0 & 0 & 1\\\\0 & 0 & 0 & 0 & 0 & 0 & 1 & 0\\\\0 & 0 & 0 & 0 & 0 & 1 & 0 & 0\\\\0 & 0 & 0 & 0 & 1 & 0 & 0 & 0\\end{matrix}\\right]$"
      ],
      "text/plain": [
       "Matrix([\n",
       "[1, 0, 0, 0, 0, 0, 0, 0],\n",
       "[0, 1, 0, 0, 0, 0, 0, 0],\n",
       "[0, 0, 1, 0, 0, 0, 0, 0],\n",
       "[0, 0, 0, 1, 0, 0, 0, 0],\n",
       "[0, 0, 0, 0, 0, 0, 0, 1],\n",
       "[0, 0, 0, 0, 0, 0, 1, 0],\n",
       "[0, 0, 0, 0, 0, 1, 0, 0],\n",
       "[0, 0, 0, 0, 1, 0, 0, 0]])"
      ]
     },
     "execution_count": 335,
     "metadata": {},
     "output_type": "execute_result"
    }
   ],
   "source": [
    "CNOT_c0_t2.matrix_rep @ CNOT_c0_t1.matrix_rep"
   ]
  },
  {
   "cell_type": "code",
   "execution_count": 317,
   "metadata": {},
   "outputs": [
    {
     "data": {
      "text/plain": [
       "[True, True, True, True, True, True, True, True]"
      ]
     },
     "execution_count": 317,
     "metadata": {},
     "output_type": "execute_result"
    }
   ],
   "source": [
    "[\n",
    "    (CNOT_c0_t2.matrix_rep @ BasisKet(0, 0, 0).mat_rep - BasisKet(0, 0, 0).mat_rep == Matrix(tuple([0] * 8))),\n",
    "    (CNOT_c0_t2.matrix_rep @ BasisKet(0, 0, 1).mat_rep - BasisKet(0, 0, 1).mat_rep == Matrix(tuple([0] * 8))),\n",
    "    (CNOT_c0_t2.matrix_rep @ BasisKet(0, 1, 0).mat_rep - BasisKet(0, 1, 0).mat_rep == Matrix(tuple([0] * 8))),\n",
    "    (CNOT_c0_t2.matrix_rep @ BasisKet(0, 1, 1).mat_rep - BasisKet(0, 1, 1).mat_rep == Matrix(tuple([0] * 8))),\n",
    "    (CNOT_c0_t2.matrix_rep @ BasisKet(1, 0, 0).mat_rep - BasisKet(1, 0, 1).mat_rep == Matrix(tuple([0] * 8))),\n",
    "    (CNOT_c0_t2.matrix_rep @ BasisKet(1, 0, 1).mat_rep - BasisKet(1, 0, 0).mat_rep == Matrix(tuple([0] * 8))),\n",
    "    (CNOT_c0_t2.matrix_rep @ BasisKet(1, 1, 0).mat_rep - BasisKet(1, 1, 1).mat_rep == Matrix(tuple([0] * 8))),\n",
    "    (CNOT_c0_t2.matrix_rep @ BasisKet(1, 1, 1).mat_rep - BasisKet(1, 1, 0).mat_rep == Matrix(tuple([0] * 8))),\n",
    "]"
   ]
  },
  {
   "cell_type": "code",
   "execution_count": null,
   "metadata": {},
   "outputs": [],
   "source": []
  },
  {
   "cell_type": "code",
   "execution_count": 318,
   "metadata": {},
   "outputs": [
    {
     "data": {
      "text/plain": [
       "[True, True, True, True, True, True, True, True]"
      ]
     },
     "execution_count": 318,
     "metadata": {},
     "output_type": "execute_result"
    }
   ],
   "source": [
    "[\n",
    "    Toffoli_12.matrix_rep @ BasisKet(0, 0, 0).mat_rep - BasisKet(0, 0, 0).mat_rep == Matrix(tuple([0] * 8)),\n",
    "    Toffoli_12.matrix_rep @ BasisKet(0, 0, 1).mat_rep - BasisKet(0, 0, 1).mat_rep == Matrix(tuple([0] * 8)),\n",
    "    Toffoli_12.matrix_rep @ BasisKet(0, 1, 0).mat_rep - BasisKet(0, 1, 0).mat_rep == Matrix(tuple([0] * 8)),\n",
    "    Toffoli_12.matrix_rep @ BasisKet(0, 1, 1).mat_rep - BasisKet(1, 1, 1).mat_rep == Matrix(tuple([0] * 8)),\n",
    "    Toffoli_12.matrix_rep @ BasisKet(1, 0, 0).mat_rep - BasisKet(1, 0, 0).mat_rep == Matrix(tuple([0] * 8)),\n",
    "    Toffoli_12.matrix_rep @ BasisKet(1, 0, 1).mat_rep - BasisKet(1, 0, 1).mat_rep == Matrix(tuple([0] * 8)),\n",
    "    Toffoli_12.matrix_rep @ BasisKet(1, 1, 0).mat_rep - BasisKet(1, 1, 0).mat_rep == Matrix(tuple([0] * 8)),\n",
    "    Toffoli_12.matrix_rep @ BasisKet(1, 1, 1).mat_rep - BasisKet(0, 1, 1).mat_rep == Matrix(tuple([0] * 8)),\n",
    "]"
   ]
  },
  {
   "cell_type": "code",
   "execution_count": 313,
   "metadata": {},
   "outputs": [],
   "source": [
    "Toffoli_decomp = [\n",
    "                    KroneckerProduct(Id2, Id2, H),\n",
    "                    CNOT_c1_t2.matrix_rep,\n",
    "                    KroneckerProduct(Id2, Id2, T.adjoint()),\n",
    "                    CNOT_c0_t2.matrix_rep,\n",
    "                    KroneckerProduct(Id2, Id2, T),\n",
    "                    CNOT_c1_t2.matrix_rep,\n",
    "                    KroneckerProduct(Id2, Id2, T.adjoint()),\n",
    "                    CNOT_c0_t2.matrix_rep,\n",
    "                    KroneckerProduct(Id2, T.adjoint(), T),\n",
    "                    CNOT_c0_t1.matrix_rep,\n",
    "                    KroneckerProduct(Id2, Id2, H),\n",
    "                    KroneckerProduct(Id2, T.adjoint(), Id2),\n",
    "                    CNOT_c0_t1.matrix_rep,\n",
    "                    KroneckerProduct(T, S, Id2)\n",
    "                ]\n",
    "Toffoli_decomp = reversed(Toffoli_decomp)\n",
    "Toffoli_decomp = reduce(lambda g1, g2: g1 @ g2, Toffoli_decomp)"
   ]
  },
  {
   "cell_type": "code",
   "execution_count": 314,
   "metadata": {},
   "outputs": [
    {
     "data": {
      "text/latex": [
       "$\\displaystyle \\left[\\begin{matrix}1 & 0 & 0 & 0 & 0 & 0 & 0 & 0\\\\0 & 1 & 0 & 0 & 0 & 0 & 0 & 0\\\\0 & 0 & 1 & 0 & 0 & 0 & 0 & 0\\\\0 & 0 & 0 & 1 & 0 & 0 & 0 & 0\\\\0 & 0 & 0 & 0 & 1 & 0 & 0 & 0\\\\0 & 0 & 0 & 0 & 0 & 1 & 0 & 0\\\\0 & 0 & 0 & 0 & 0 & 0 & 0 & 1\\\\0 & 0 & 0 & 0 & 0 & 0 & 1 & 0\\end{matrix}\\right]$"
      ],
      "text/plain": [
       "Matrix([\n",
       "[1, 0, 0, 0, 0, 0, 0, 0],\n",
       "[0, 1, 0, 0, 0, 0, 0, 0],\n",
       "[0, 0, 1, 0, 0, 0, 0, 0],\n",
       "[0, 0, 0, 1, 0, 0, 0, 0],\n",
       "[0, 0, 0, 0, 1, 0, 0, 0],\n",
       "[0, 0, 0, 0, 0, 1, 0, 0],\n",
       "[0, 0, 0, 0, 0, 0, 0, 1],\n",
       "[0, 0, 0, 0, 0, 0, 1, 0]])"
      ]
     },
     "execution_count": 314,
     "metadata": {},
     "output_type": "execute_result"
    }
   ],
   "source": [
    "Toffoli_decomp"
   ]
  },
  {
   "cell_type": "code",
   "execution_count": 332,
   "metadata": {},
   "outputs": [],
   "source": [
    "class QuantumGate:\n",
    "\n",
    "    def __init__(self, n: int, free_bits_dict: Dict[int, Matrix], target_bits_dict: Dict[int, Matrix], controlled_bits_dict: Dict[int, int]) -> None:\n",
    "\n",
    "        \"\"\"\n",
    "        channel label starts from 0\n",
    "\n",
    "        n: total number of channels\n",
    "\n",
    "        free_bits_dict: {channel label: gate operator}\n",
    "\n",
    "        target_bits_dict: {channel label: gate operator}\n",
    "        \n",
    "        controlled_bits_dict: {channel label: activate_on 0 or 1}\n",
    "        \"\"\"\n",
    "        \n",
    "        self.n = n\n",
    "\n",
    "        for i in range(self.n):\n",
    "            if (i not in free_bits_dict) and (i not in target_bits_dict) and (i not in controlled_bits_dict):\n",
    "                free_bits_dict[i] = Id2\n",
    "\n",
    "        self.basis_kets = generate_basis(self.n)\n",
    "\n",
    "        self.free_bits_dict = free_bits_dict\n",
    "        self.free_bits_idx = free_bits_dict.keys()\n",
    "        self.free_bits_val = free_bits_dict.values()\n",
    "\n",
    "        self.target_bits_dict = target_bits_dict\n",
    "        self.target_bits_idx = self.target_bits_dict.keys()\n",
    "        \n",
    "        self.controlled_bits_dict = controlled_bits_dict\n",
    "        self.controlled_bits_idx = self.controlled_bits_dict.keys()\n",
    "        self.controlled_bits_val = self.controlled_bits_dict.values()\n",
    "\n",
    "        self.matrix_rep = self.compute_matrix_rep()\n",
    "        \n",
    "\n",
    "    def compute_matrix_rep(self) -> Matrix:\n",
    "\n",
    "        def matrix_el(i, j):\n",
    "            \n",
    "            out_proj = self.basis_kets[i].mat_rep.T\n",
    "            in_state = self.basis_kets[j]\n",
    "\n",
    "            in_state_control_bit = tuple([in_state.label[i] for i in self.controlled_bits_idx])\n",
    "\n",
    "            if in_state_control_bit != tuple(self.controlled_bits_val):\n",
    "                operator = [self.free_bits_dict[i] if i in self.free_bits_dict else Id2 for i in range(self.n)]\n",
    "            else:\n",
    "                activated_gate = self.free_bits_dict|self.target_bits_dict\n",
    "                operator = [activated_gate[i] if i in activated_gate else Id2 for i in range(self.n)]\n",
    "            \n",
    "            operator = reduce(KroneckerProduct, operator).doit()\n",
    "            out_state = operator @ in_state.mat_rep\n",
    "            \n",
    "            return out_proj @ out_state\n",
    "            \n",
    "\n",
    "        matrix = Matrix([[matrix_el(i, j) for j in range(2**self.n)] for i in range(2**self.n)])\n",
    "\n",
    "        return matrix\n",
    "    \n",
    "\n",
    "    @classmethod\n",
    "    def fromTruthTable(cls, truth_table: Dict[Matrix, Matrix]):\n",
    "        pass\n",
    "        "
   ]
  },
  {
   "cell_type": "code",
   "execution_count": 330,
   "metadata": {},
   "outputs": [],
   "source": [
    "tmp = QuantumGate(3, free_bits_dict={}, target_bits_dict={2: X}, controlled_bits_dict={0: 1, 1: 1})"
   ]
  },
  {
   "cell_type": "code",
   "execution_count": null,
   "metadata": {},
   "outputs": [],
   "source": [
    "QuantumGate.fromTruthTable()"
   ]
  },
  {
   "cell_type": "code",
   "execution_count": 333,
   "metadata": {},
   "outputs": [
    {
     "data": {
      "text/latex": [
       "$\\displaystyle \\left[\\begin{matrix}1 & 0 & 0 & 0 & 0 & 0 & 0 & 0\\\\0 & 1 & 0 & 0 & 0 & 0 & 0 & 0\\\\0 & 0 & 1 & 0 & 0 & 0 & 0 & 0\\\\0 & 0 & 0 & 1 & 0 & 0 & 0 & 0\\\\0 & 0 & 0 & 0 & 1 & 0 & 0 & 0\\\\0 & 0 & 0 & 0 & 0 & 1 & 0 & 0\\\\0 & 0 & 0 & 0 & 0 & 0 & 1 & 0\\\\0 & 0 & 0 & 0 & 0 & 0 & 0 & 1\\end{matrix}\\right]$"
      ],
      "text/plain": [
       "Matrix([\n",
       "[1, 0, 0, 0, 0, 0, 0, 0],\n",
       "[0, 1, 0, 0, 0, 0, 0, 0],\n",
       "[0, 0, 1, 0, 0, 0, 0, 0],\n",
       "[0, 0, 0, 1, 0, 0, 0, 0],\n",
       "[0, 0, 0, 0, 1, 0, 0, 0],\n",
       "[0, 0, 0, 0, 0, 1, 0, 0],\n",
       "[0, 0, 0, 0, 0, 0, 1, 0],\n",
       "[0, 0, 0, 0, 0, 0, 0, 1]])"
      ]
     },
     "execution_count": 333,
     "metadata": {},
     "output_type": "execute_result"
    }
   ],
   "source": [
    "tmp.matrix_rep @ tmp.matrix_rep"
   ]
  },
  {
   "cell_type": "code",
   "execution_count": 329,
   "metadata": {},
   "outputs": [
    {
     "data": {
      "text/latex": [
       "$\\displaystyle \\left[\\begin{matrix}1 & 0 & 0 & 0 & 0 & 0 & 0 & 0\\\\0 & 1 & 0 & 0 & 0 & 0 & 0 & 0\\\\0 & 0 & 1 & 0 & 0 & 0 & 0 & 0\\\\0 & 0 & 0 & 1 & 0 & 0 & 0 & 0\\\\0 & 0 & 0 & 0 & 0 & 1 & 0 & 0\\\\0 & 0 & 0 & 0 & 1 & 0 & 0 & 0\\\\0 & 0 & 0 & 0 & 0 & 0 & 0 & 1\\\\0 & 0 & 0 & 0 & 0 & 0 & 1 & 0\\end{matrix}\\right]$"
      ],
      "text/plain": [
       "Matrix([\n",
       "[1, 0, 0, 0, 0, 0, 0, 0],\n",
       "[0, 1, 0, 0, 0, 0, 0, 0],\n",
       "[0, 0, 1, 0, 0, 0, 0, 0],\n",
       "[0, 0, 0, 1, 0, 0, 0, 0],\n",
       "[0, 0, 0, 0, 0, 1, 0, 0],\n",
       "[0, 0, 0, 0, 1, 0, 0, 0],\n",
       "[0, 0, 0, 0, 0, 0, 0, 1],\n",
       "[0, 0, 0, 0, 0, 0, 1, 0]])"
      ]
     },
     "execution_count": 329,
     "metadata": {},
     "output_type": "execute_result"
    }
   ],
   "source": [
    "CNOT_c0_t2.matrix_rep"
   ]
  },
  {
   "cell_type": "code",
   "execution_count": 336,
   "metadata": {},
   "outputs": [],
   "source": [
    "class QuantumCircuit:\n",
    "\n",
    "    def __init__(self, gates: List[QuantumGate], reversed_order = True) -> None:\n",
    "\n",
    "        self.gates = reversed(gates) if reversed_order else gates\n",
    "        self.matrix_rep = reduce(KroneckerProduct, self.gates).doit()\n",
    "        \n",
    "        "
   ]
  },
  {
   "cell_type": "code",
   "execution_count": 337,
   "metadata": {},
   "outputs": [],
   "source": [
    "CNOT = QuantumGate(n = 2, free_bits_dict={}, target_bits_dict={1: X}, controlled_bits_dict={0: 1})"
   ]
  },
  {
   "cell_type": "code",
   "execution_count": 350,
   "metadata": {},
   "outputs": [
    {
     "data": {
      "text/plain": [
       "[True, True, True, True, True, True]"
      ]
     },
     "execution_count": 350,
     "metadata": {},
     "output_type": "execute_result"
    }
   ],
   "source": [
    "[\n",
    "    CNOT.matrix_rep @ KroneckerProduct(X, Id2) @ CNOT.matrix_rep == KroneckerProduct(X, Id2) @ KroneckerProduct(Id2, X),\n",
    "    CNOT.matrix_rep @ KroneckerProduct(Y, Id2) @ CNOT.matrix_rep == KroneckerProduct(Y, Id2) @ KroneckerProduct(Id2, X),\n",
    "    CNOT.matrix_rep @ KroneckerProduct(Z, Id2) @ CNOT.matrix_rep == KroneckerProduct(Z, Id2).doit(),\n",
    "    CNOT.matrix_rep @ KroneckerProduct(Id2, X) @ CNOT.matrix_rep == KroneckerProduct(Id2, X).doit(),\n",
    "    CNOT.matrix_rep @ KroneckerProduct(Id2, Y) @ CNOT.matrix_rep == KroneckerProduct(Z, Id2) @ KroneckerProduct(Id2, Y),\n",
    "    CNOT.matrix_rep @ KroneckerProduct(Id2, Z) @ CNOT.matrix_rep == KroneckerProduct(Z, Id2) @ KroneckerProduct(Id2, Z),\n",
    "]"
   ]
  },
  {
   "cell_type": "code",
   "execution_count": 352,
   "metadata": {},
   "outputs": [],
   "source": [
    "Toffoli_c0c1_t2 = QuantumGate(n = 3, free_bits_dict={}, target_bits_dict={2: X}, controlled_bits_dict={0: 1, 1: 1})\n",
    "Toffoli_c0c2_t1 = QuantumGate(n = 3, free_bits_dict={}, target_bits_dict={1: X}, controlled_bits_dict={0: 1, 2: 1})\n",
    "Toffoli_c1c2_t0 = QuantumGate(n = 3, free_bits_dict={}, target_bits_dict={0: X}, controlled_bits_dict={1: 1, 2: 1})"
   ]
  },
  {
   "cell_type": "code",
   "execution_count": null,
   "metadata": {},
   "outputs": [],
   "source": [
    "map(KroneckerProduct, itertools.product([[Toffoli_c0c1_t2.matrix_rep, Toffoli_c0c2_t1.matrix_rep, Toffoli_c1c2_t0.matrix_rep]]*3)).__next__()"
   ]
  },
  {
   "cell_type": "code",
   "execution_count": 396,
   "metadata": {},
   "outputs": [],
   "source": [
    "Fredkin = Matrix([[1, 0, 0, 0, 0, 0, 0, 0], \n",
    "                 [0, 1, 0, 0, 0, 0, 0, 0], \n",
    "                 [0, 0, 1, 0, 0, 0, 0, 0],\n",
    "                 [0, 0, 0, 1, 0, 0, 0, 0],\n",
    "                 [0, 0, 0, 0, 1, 0, 0, 0],\n",
    "                 [0, 0, 0, 0, 0, 0, 1, 0],\n",
    "                 [0, 0, 0, 0, 0, 1, 0, 0],\n",
    "                 [0, 0, 0, 0, 0, 0, 0, 1]])\n",
    "all_combo = list(itertools.product(*[[Toffoli_c0c1_t2.matrix_rep, Toffoli_c0c2_t1.matrix_rep, Toffoli_c1c2_t0.matrix_rep]]*3))\n",
    "eval_combo = list(map(lambda comb: reduce(lambda m1, m2: m1 @ m2, comb) == Fredkin, all_combo))"
   ]
  },
  {
   "cell_type": "code",
   "execution_count": 394,
   "metadata": {},
   "outputs": [
    {
     "data": {
      "text/plain": [
       "[True, True]"
      ]
     },
     "execution_count": 394,
     "metadata": {},
     "output_type": "execute_result"
    }
   ],
   "source": [
    "[\n",
    "    Toffoli_c0c1_t2.matrix_rep @ Toffoli_c0c2_t1.matrix_rep @ Toffoli_c0c1_t2.matrix_rep == Fredkin,\n",
    "    Toffoli_c0c2_t1.matrix_rep @ Toffoli_c0c1_t2.matrix_rep @ Toffoli_c0c2_t1.matrix_rep == Fredkin\n",
    "]"
   ]
  },
  {
   "cell_type": "code",
   "execution_count": 19,
   "metadata": {},
   "outputs": [],
   "source": [
    "from openfermion import FermionOperator, MolecularData"
   ]
  },
  {
   "cell_type": "code",
   "execution_count": 22,
   "metadata": {},
   "outputs": [
    {
     "data": {
      "text/plain": [
       "1.0 [4^ 1]"
      ]
     },
     "execution_count": 22,
     "metadata": {},
     "output_type": "execute_result"
    }
   ],
   "source": [
    "FermionOperator(((4, 1), (1, 0)))"
   ]
  },
  {
   "cell_type": "code",
   "execution_count": 27,
   "metadata": {},
   "outputs": [
    {
     "data": {
      "text/plain": [
       "(-1+0j)"
      ]
     },
     "execution_count": 27,
     "metadata": {},
     "output_type": "execute_result"
    }
   ],
   "source": [
    "(1j)**2"
   ]
  },
  {
   "cell_type": "code",
   "execution_count": 28,
   "metadata": {},
   "outputs": [
    {
     "ename": "ImportError",
     "evalue": "cannot import name 'MolecularData' from 'openfermion.hamiltonians' (/usr/local/lib/python3.9/site-packages/openfermion/hamiltonians/__init__.py)",
     "output_type": "error",
     "traceback": [
      "\u001b[0;31m---------------------------------------------------------------------------\u001b[0m",
      "\u001b[0;31mImportError\u001b[0m                               Traceback (most recent call last)",
      "\u001b[0;32m/var/folders/x2/w2gbb51j5yj53k54hlsjn50m0000gn/T/ipykernel_895/1264676772.py\u001b[0m in \u001b[0;36m<module>\u001b[0;34m\u001b[0m\n\u001b[0;32m----> 1\u001b[0;31m \u001b[0;32mfrom\u001b[0m \u001b[0mopenfermion\u001b[0m\u001b[0;34m.\u001b[0m\u001b[0mhamiltonians\u001b[0m \u001b[0;32mimport\u001b[0m \u001b[0mMolecularData\u001b[0m\u001b[0;34m\u001b[0m\u001b[0;34m\u001b[0m\u001b[0m\n\u001b[0m",
      "\u001b[0;31mImportError\u001b[0m: cannot import name 'MolecularData' from 'openfermion.hamiltonians' (/usr/local/lib/python3.9/site-packages/openfermion/hamiltonians/__init__.py)"
     ]
    }
   ],
   "source": [
    "from openfermion.hamiltonians import MolecularData"
   ]
  },
  {
   "cell_type": "code",
   "execution_count": 31,
   "metadata": {},
   "outputs": [],
   "source": [
    "from openfermion import MolecularData"
   ]
  },
  {
   "cell_type": "code",
   "execution_count": 34,
   "metadata": {},
   "outputs": [],
   "source": [
    "geomertry = [['H', [0, 0, 0]], ['H', [0, 0 , 0.74]]]\n",
    "basis = 'sto-3g'\n",
    "multuplicity = 1\n",
    "charge = 0\n",
    "h2_mol = MolecularData(geometry=geomertry, basis = basis, multiplicity=multuplicity, charge=charge)"
   ]
  },
  {
   "cell_type": "code",
   "execution_count": 47,
   "metadata": {},
   "outputs": [
    {
     "data": {
      "text/plain": [
       "{'geometry': [['H', [0, 0, 0]], ['H', [0, 0, 0.74]]],\n",
       " 'basis': 'sto-3g',\n",
       " 'multiplicity': 1,\n",
       " 'charge': 0,\n",
       " 'description': '',\n",
       " 'name': 'H2_sto-3g_singlet',\n",
       " 'filename': '/usr/local/lib/python3.9/site-packages/openfermion/testing/data/H2_sto-3g_singlet',\n",
       " 'n_atoms': 2,\n",
       " 'atoms': ['H', 'H'],\n",
       " 'protons': [1, 1],\n",
       " 'n_electrons': 2,\n",
       " 'n_orbitals': None,\n",
       " 'n_qubits': None,\n",
       " 'nuclear_repulsion': None,\n",
       " 'hf_energy': None,\n",
       " 'orbital_energies': None,\n",
       " 'mp2_energy': None,\n",
       " 'cisd_energy': None,\n",
       " 'fci_energy': None,\n",
       " 'ccsd_energy': None,\n",
       " 'general_calculations': {},\n",
       " '_canonical_orbitals': None,\n",
       " '_overlap_integrals': None,\n",
       " '_one_body_integrals': None,\n",
       " '_two_body_integrals': None,\n",
       " '_cisd_one_rdm': None,\n",
       " '_cisd_two_rdm': None,\n",
       " '_fci_one_rdm': None,\n",
       " '_fci_two_rdm': None,\n",
       " '_ccsd_single_amps': None,\n",
       " '_ccsd_double_amps': None}"
      ]
     },
     "execution_count": 47,
     "metadata": {},
     "output_type": "execute_result"
    }
   ],
   "source": [
    "h2_mol.__dict__"
   ]
  },
  {
   "cell_type": "code",
   "execution_count": null,
   "metadata": {},
   "outputs": [],
   "source": []
  }
 ],
 "metadata": {
  "kernelspec": {
   "display_name": "Python 3.9.7 ('base')",
   "language": "python",
   "name": "python3"
  },
  "language_info": {
   "codemirror_mode": {
    "name": "ipython",
    "version": 3
   },
   "file_extension": ".py",
   "mimetype": "text/x-python",
   "name": "python",
   "nbconvert_exporter": "python",
   "pygments_lexer": "ipython3",
   "version": "3.9.7"
  },
  "orig_nbformat": 4,
  "vscode": {
   "interpreter": {
    "hash": "5637242735df105300a10f363d5c0d18b4b77d7105ef62addc8c3980e22cd89c"
   }
  }
 },
 "nbformat": 4,
 "nbformat_minor": 2
}
